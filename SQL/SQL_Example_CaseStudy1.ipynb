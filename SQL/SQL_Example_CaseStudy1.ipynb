{
 "cells": [
  {
   "cell_type": "markdown",
   "metadata": {},
   "source": [
    "# Purpose:\n",
    "\n",
    "To address the activities in the coding exercise (https://8weeksqlchallenge.com/case-study-1/) as an example of SQL queries. \n",
    "\n"
   ]
  },
  {
   "cell_type": "markdown",
   "metadata": {},
   "source": [
    "## Introduction\n",
    "Danny seriously loves Japanese food so in the beginning of 2021, he decides to embark upon a risky venture and opens up a cute little restaurant that sells his 3 favourite foods: sushi, curry and ramen.\n",
    "\n",
    "Danny’s Diner is in need of your assistance to help the restaurant stay afloat - the restaurant has captured some very basic data from their few months of operation but have no idea how to use their data to help them run the business.\n",
    "\n",
    "## Problem Statement\n",
    "Danny wants to use the data to answer a few simple questions about his customers, especially about their visiting patterns, how much money they’ve spent and also which menu items are their favourite. Having this deeper connection with his customers will help him deliver a better and more personalised experience for his loyal customers.\n",
    "\n",
    "He plans on using these insights to help him decide whether he should expand the existing customer loyalty program - additionally he needs help to generate some basic datasets so his team can easily inspect the data without needing to use SQL.\n",
    "\n",
    "Danny has provided you with a sample of his overall customer data due to privacy issues - but he hopes that these examples are enough for you to write fully functioning SQL queries to help him answer his questions!\n",
    "\n",
    "Danny has shared with you 3 key datasets for this case study:\n",
    "\n",
    "- sales\n",
    "- menu\n",
    "- members\n"
   ]
  },
  {
   "cell_type": "markdown",
   "metadata": {},
   "source": [
    "# Load Libraries"
   ]
  },
  {
   "cell_type": "code",
   "execution_count": null,
   "metadata": {},
   "outputs": [],
   "source": [
    "import os\n",
    "import psycopg2\n",
    "from psycopg2 import sql\n",
    "import pandas as pd"
   ]
  },
  {
   "cell_type": "markdown",
   "metadata": {},
   "source": [
    "# Connect to local PostgreSQL Database"
   ]
  },
  {
   "cell_type": "code",
   "execution_count": null,
   "metadata": {},
   "outputs": [
    {
     "name": "stdout",
     "output_type": "stream",
     "text": [
      "('PostgreSQL 16.3 (Homebrew) on aarch64-apple-darwin23.4.0, compiled by Apple clang version 15.0.0 (clang-1500.3.9.4), 64-bit',)\n"
     ]
    }
   ],
   "source": [
    "# Retrieve environment variables\n",
    "dbname = os.getenv(\"DB_NAME\")\n",
    "user = os.getenv(\"DB_USER\")\n",
    "password = os.getenv(\"DB_PASSWORD\")\n",
    "host = os.getenv(\"DB_HOST\", \"localhost\")\n",
    "port = os.getenv(\"DB_PORT\", \"5432\")\n",
    "schema = os.getenv(\"DB_SCHEMA\", \"dannys_diner\")\n",
    "\n",
    "# Establish a connection\n",
    "connection = psycopg2.connect(\n",
    "    dbname=dbname,\n",
    "    user=user,\n",
    "    password=password,\n",
    "    host=host,\n",
    "    port=port\n",
    ")\n",
    "cursor = connection.cursor()\n",
    "cursor.execute(\"SELECT version();\")\n",
    "print(cursor.fetchone())\n",
    "\n",
    "# Set the schema\n",
    "cursor.execute(sql.SQL(\"SET search_path TO {}\").format(sql.Identifier(schema)))\n"
   ]
  },
  {
   "cell_type": "code",
   "execution_count": 12,
   "metadata": {},
   "outputs": [
    {
     "data": {
      "text/plain": [
       "[('A', datetime.date(2021, 1, 7)), ('B', datetime.date(2021, 1, 9))]"
      ]
     },
     "execution_count": 12,
     "metadata": {},
     "output_type": "execute_result"
    }
   ],
   "source": [
    "# Test connection with a simple query\n",
    "cursor.execute(sql.SQL(\"SELECT * FROM members\"))\n",
    "cursor.fetchall()"
   ]
  },
  {
   "cell_type": "markdown",
   "metadata": {},
   "source": [
    "# Answer Questions from Client\n",
    "\n",
    "What is the total amount each customer spent at the restaurant?"
   ]
  },
  {
   "cell_type": "code",
   "execution_count": 46,
   "metadata": {},
   "outputs": [
    {
     "data": {
      "text/html": [
       "<div>\n",
       "<style scoped>\n",
       "    .dataframe tbody tr th:only-of-type {\n",
       "        vertical-align: middle;\n",
       "    }\n",
       "\n",
       "    .dataframe tbody tr th {\n",
       "        vertical-align: top;\n",
       "    }\n",
       "\n",
       "    .dataframe thead th {\n",
       "        text-align: right;\n",
       "    }\n",
       "</style>\n",
       "<table border=\"1\" class=\"dataframe\">\n",
       "  <thead>\n",
       "    <tr style=\"text-align: right;\">\n",
       "      <th></th>\n",
       "      <th>customer_id</th>\n",
       "      <th>total_spent</th>\n",
       "    </tr>\n",
       "  </thead>\n",
       "  <tbody>\n",
       "    <tr>\n",
       "      <th>0</th>\n",
       "      <td>A</td>\n",
       "      <td>76</td>\n",
       "    </tr>\n",
       "    <tr>\n",
       "      <th>1</th>\n",
       "      <td>B</td>\n",
       "      <td>74</td>\n",
       "    </tr>\n",
       "    <tr>\n",
       "      <th>2</th>\n",
       "      <td>C</td>\n",
       "      <td>36</td>\n",
       "    </tr>\n",
       "  </tbody>\n",
       "</table>\n",
       "</div>"
      ],
      "text/plain": [
       "  customer_id  total_spent\n",
       "0           A           76\n",
       "1           B           74\n",
       "2           C           36"
      ]
     },
     "execution_count": 46,
     "metadata": {},
     "output_type": "execute_result"
    }
   ],
   "source": [
    "query = \"\"\"\n",
    "    SELECT sales.customer_id, SUM(menu.price) FROM sales\n",
    "    JOIN menu ON sales.product_id = menu.product_id\n",
    "    GROUP BY sales.customer_id;\n",
    "    \"\"\"\n",
    "\n",
    "cursor.execute(sql.SQL(query))\n",
    "sql_table = cursor.fetchall()\n",
    "tot_spent_df = pd.DataFrame(sql_table, columns=['customer_id', 'total_spent'])\n",
    "tot_spent_df.sort_values(by='total_spent', ascending=False).reset_index(drop=True)"
   ]
  },
  {
   "cell_type": "markdown",
   "metadata": {},
   "source": [
    "---\n",
    "How many days has each customer visited the restaurant?"
   ]
  },
  {
   "cell_type": "code",
   "execution_count": 45,
   "metadata": {},
   "outputs": [
    {
     "data": {
      "text/html": [
       "<div>\n",
       "<style scoped>\n",
       "    .dataframe tbody tr th:only-of-type {\n",
       "        vertical-align: middle;\n",
       "    }\n",
       "\n",
       "    .dataframe tbody tr th {\n",
       "        vertical-align: top;\n",
       "    }\n",
       "\n",
       "    .dataframe thead th {\n",
       "        text-align: right;\n",
       "    }\n",
       "</style>\n",
       "<table border=\"1\" class=\"dataframe\">\n",
       "  <thead>\n",
       "    <tr style=\"text-align: right;\">\n",
       "      <th></th>\n",
       "      <th>customer_id</th>\n",
       "      <th>Num_days_visited</th>\n",
       "    </tr>\n",
       "  </thead>\n",
       "  <tbody>\n",
       "    <tr>\n",
       "      <th>0</th>\n",
       "      <td>B</td>\n",
       "      <td>6</td>\n",
       "    </tr>\n",
       "    <tr>\n",
       "      <th>1</th>\n",
       "      <td>A</td>\n",
       "      <td>4</td>\n",
       "    </tr>\n",
       "    <tr>\n",
       "      <th>2</th>\n",
       "      <td>C</td>\n",
       "      <td>2</td>\n",
       "    </tr>\n",
       "  </tbody>\n",
       "</table>\n",
       "</div>"
      ],
      "text/plain": [
       "  customer_id  Num_days_visited\n",
       "0           B                 6\n",
       "1           A                 4\n",
       "2           C                 2"
      ]
     },
     "execution_count": 45,
     "metadata": {},
     "output_type": "execute_result"
    }
   ],
   "source": [
    "query = \"\"\"\n",
    "    SELECT sales.customer_id, COUNT(DISTINCT sales.order_date) FROM sales\n",
    "    GROUP BY sales.customer_id;\n",
    "    \"\"\"\n",
    "\n",
    "cursor.execute(sql.SQL(query))\n",
    "sql_table = cursor.fetchall()\n",
    "days_visited_df = pd.DataFrame(sql_table, columns=['customer_id', 'Num_days_visited'])\n",
    "days_visited_df.sort_values(by='Num_days_visited', ascending=False).reset_index(drop=True)"
   ]
  },
  {
   "cell_type": "markdown",
   "metadata": {},
   "source": [
    "---\n",
    "What was the first item from the menu purchased by each customer?"
   ]
  },
  {
   "cell_type": "code",
   "execution_count": 54,
   "metadata": {},
   "outputs": [
    {
     "data": {
      "text/html": [
       "<div>\n",
       "<style scoped>\n",
       "    .dataframe tbody tr th:only-of-type {\n",
       "        vertical-align: middle;\n",
       "    }\n",
       "\n",
       "    .dataframe tbody tr th {\n",
       "        vertical-align: top;\n",
       "    }\n",
       "\n",
       "    .dataframe thead th {\n",
       "        text-align: right;\n",
       "    }\n",
       "</style>\n",
       "<table border=\"1\" class=\"dataframe\">\n",
       "  <thead>\n",
       "    <tr style=\"text-align: right;\">\n",
       "      <th></th>\n",
       "      <th>customer_id</th>\n",
       "      <th>product_name</th>\n",
       "      <th>order_date</th>\n",
       "    </tr>\n",
       "  </thead>\n",
       "  <tbody>\n",
       "    <tr>\n",
       "      <th>0</th>\n",
       "      <td>A</td>\n",
       "      <td>curry</td>\n",
       "      <td>2021-01-01</td>\n",
       "    </tr>\n",
       "    <tr>\n",
       "      <th>1</th>\n",
       "      <td>B</td>\n",
       "      <td>curry</td>\n",
       "      <td>2021-01-01</td>\n",
       "    </tr>\n",
       "    <tr>\n",
       "      <th>2</th>\n",
       "      <td>C</td>\n",
       "      <td>ramen</td>\n",
       "      <td>2021-01-01</td>\n",
       "    </tr>\n",
       "  </tbody>\n",
       "</table>\n",
       "</div>"
      ],
      "text/plain": [
       "  customer_id product_name  order_date\n",
       "0           A        curry  2021-01-01\n",
       "1           B        curry  2021-01-01\n",
       "2           C        ramen  2021-01-01"
      ]
     },
     "execution_count": 54,
     "metadata": {},
     "output_type": "execute_result"
    }
   ],
   "source": [
    "query = \"\"\"\n",
    "    SELECT customer_id, product_name, order_date\n",
    "    FROM (\n",
    "        SELECT sales.customer_id, sales.product_id, sales.order_date, menu.product_name,\n",
    "            ROW_NUMBER() OVER (PARTITION BY sales.customer_id ORDER BY sales.order_date) AS rownum\n",
    "        FROM sales\n",
    "        JOIN menu ON sales.product_id = menu.product_id\n",
    "    ) subquery\n",
    "    WHERE rownum = 1;\n",
    "    \"\"\"\n",
    "\n",
    "cursor.execute(sql.SQL(query))\n",
    "sql_table = cursor.fetchall()\n",
    "first_order_df = pd.DataFrame(sql_table, columns=['customer_id', 'product_name', 'order_date'])\n",
    "first_order_df"
   ]
  },
  {
   "cell_type": "markdown",
   "metadata": {},
   "source": [
    "---\n",
    "What is the most purchased item on the menu and how many times was it purchased by all customers?"
   ]
  },
  {
   "cell_type": "code",
   "execution_count": 63,
   "metadata": {},
   "outputs": [
    {
     "name": "stdout",
     "output_type": "stream",
     "text": [
      "The most frequently purchased product is 'ramen' and it was purchased a total of 8 times within the time period.\n"
     ]
    },
    {
     "data": {
      "text/html": [
       "<div>\n",
       "<style scoped>\n",
       "    .dataframe tbody tr th:only-of-type {\n",
       "        vertical-align: middle;\n",
       "    }\n",
       "\n",
       "    .dataframe tbody tr th {\n",
       "        vertical-align: top;\n",
       "    }\n",
       "\n",
       "    .dataframe thead th {\n",
       "        text-align: right;\n",
       "    }\n",
       "</style>\n",
       "<table border=\"1\" class=\"dataframe\">\n",
       "  <thead>\n",
       "    <tr style=\"text-align: right;\">\n",
       "      <th></th>\n",
       "      <th>customer_id</th>\n",
       "      <th>ramen_frq</th>\n",
       "    </tr>\n",
       "  </thead>\n",
       "  <tbody>\n",
       "    <tr>\n",
       "      <th>0</th>\n",
       "      <td>C</td>\n",
       "      <td>3</td>\n",
       "    </tr>\n",
       "    <tr>\n",
       "      <th>1</th>\n",
       "      <td>A</td>\n",
       "      <td>3</td>\n",
       "    </tr>\n",
       "    <tr>\n",
       "      <th>2</th>\n",
       "      <td>B</td>\n",
       "      <td>2</td>\n",
       "    </tr>\n",
       "  </tbody>\n",
       "</table>\n",
       "</div>"
      ],
      "text/plain": [
       "  customer_id  ramen_frq\n",
       "0           C          3\n",
       "1           A          3\n",
       "2           B          2"
      ]
     },
     "execution_count": 63,
     "metadata": {},
     "output_type": "execute_result"
    }
   ],
   "source": [
    "# Find the most frequently purchased product on the menu\n",
    "query = \"\"\"\n",
    "    SELECT menu.product_name, COUNT(*) AS frequency FROM sales\n",
    "    JOIN menu ON sales.product_id = menu.product_id\n",
    "    GROUP BY menu.product_name\n",
    "    ORDER BY frequency DESC\n",
    "    LIMIT 1;\n",
    "    \"\"\"\n",
    "\n",
    "cursor.execute(sql.SQL(query))\n",
    "most_frequent_product_tp = cursor.fetchone()\n",
    "most_frq_prd, frequency = most_frequent_product_tp\n",
    "print(f\"The most frequently purchased product is '{most_frq_prd}' and it was purchased a total of {frequency} times within the time period.\")\n",
    "\n",
    "\n",
    "\n",
    "# Find how often each customer purchased that item.\n",
    "query_customer_frequency = \"\"\"\n",
    "    SELECT sales.customer_id, COUNT(*) AS frequency FROM sales\n",
    "    JOIN menu ON sales.product_id = menu.product_id\n",
    "    WHERE menu.product_name = %s\n",
    "    GROUP BY sales.customer_id\n",
    "    ORDER BY frequency DESC;\n",
    "\"\"\"\n",
    "\n",
    "cursor.execute(sql.SQL(query_customer_frequency), [most_frq_prd])\n",
    "sql_table = cursor.fetchall()\n",
    "frq_col_name = most_frq_prd + \"_frq\"\n",
    "purch_frq_df = pd.DataFrame(sql_table, columns=['customer_id', frq_col_name])\n",
    "purch_frq_df\n"
   ]
  },
  {
   "cell_type": "markdown",
   "metadata": {},
   "source": [
    "---\n",
    "Which item was the most popular for each customer?"
   ]
  },
  {
   "cell_type": "code",
   "execution_count": 65,
   "metadata": {},
   "outputs": [
    {
     "data": {
      "text/html": [
       "<div>\n",
       "<style scoped>\n",
       "    .dataframe tbody tr th:only-of-type {\n",
       "        vertical-align: middle;\n",
       "    }\n",
       "\n",
       "    .dataframe tbody tr th {\n",
       "        vertical-align: top;\n",
       "    }\n",
       "\n",
       "    .dataframe thead th {\n",
       "        text-align: right;\n",
       "    }\n",
       "</style>\n",
       "<table border=\"1\" class=\"dataframe\">\n",
       "  <thead>\n",
       "    <tr style=\"text-align: right;\">\n",
       "      <th></th>\n",
       "      <th>customer_id</th>\n",
       "      <th>product_name</th>\n",
       "      <th>order_freq</th>\n",
       "    </tr>\n",
       "  </thead>\n",
       "  <tbody>\n",
       "    <tr>\n",
       "      <th>0</th>\n",
       "      <td>A</td>\n",
       "      <td>ramen</td>\n",
       "      <td>3</td>\n",
       "    </tr>\n",
       "    <tr>\n",
       "      <th>1</th>\n",
       "      <td>B</td>\n",
       "      <td>sushi</td>\n",
       "      <td>2</td>\n",
       "    </tr>\n",
       "    <tr>\n",
       "      <th>2</th>\n",
       "      <td>B</td>\n",
       "      <td>curry</td>\n",
       "      <td>2</td>\n",
       "    </tr>\n",
       "    <tr>\n",
       "      <th>3</th>\n",
       "      <td>B</td>\n",
       "      <td>ramen</td>\n",
       "      <td>2</td>\n",
       "    </tr>\n",
       "    <tr>\n",
       "      <th>4</th>\n",
       "      <td>C</td>\n",
       "      <td>ramen</td>\n",
       "      <td>3</td>\n",
       "    </tr>\n",
       "  </tbody>\n",
       "</table>\n",
       "</div>"
      ],
      "text/plain": [
       "  customer_id product_name  order_freq\n",
       "0           A        ramen           3\n",
       "1           B        sushi           2\n",
       "2           B        curry           2\n",
       "3           B        ramen           2\n",
       "4           C        ramen           3"
      ]
     },
     "execution_count": 65,
     "metadata": {},
     "output_type": "execute_result"
    }
   ],
   "source": [
    "query = \"\"\"\n",
    "    WITH CustomerProductFrequency AS (\n",
    "        SELECT sales.customer_id, menu.product_name, COUNT(*) AS frequency FROM sales\n",
    "        JOIN menu ON sales.product_id = menu.product_id\n",
    "        GROUP BY sales.customer_id, menu.product_name\n",
    "    ),\n",
    "    RankedProducts AS (\n",
    "        SELECT customer_id, product_name, frequency, RANK() OVER (PARTITION BY customer_id ORDER BY frequency DESC) AS rank\n",
    "        FROM CustomerProductFrequency\n",
    "    )\n",
    "    SELECT customer_id, product_name, frequency FROM RankedProducts\n",
    "    WHERE rank = 1;\n",
    "    \"\"\"\n",
    "\n",
    "cursor.execute(sql.SQL(query))\n",
    "sql_table = cursor.fetchall()\n",
    "most_frq_item_df = pd.DataFrame(sql_table, columns=['customer_id', 'product_name', 'order_freq'])\n",
    "most_frq_item_df\n"
   ]
  },
  {
   "cell_type": "markdown",
   "metadata": {},
   "source": [
    "---\n",
    "Which item was purchased first by the customer after they became a member?"
   ]
  },
  {
   "cell_type": "code",
   "execution_count": 75,
   "metadata": {},
   "outputs": [
    {
     "data": {
      "text/html": [
       "<div>\n",
       "<style scoped>\n",
       "    .dataframe tbody tr th:only-of-type {\n",
       "        vertical-align: middle;\n",
       "    }\n",
       "\n",
       "    .dataframe tbody tr th {\n",
       "        vertical-align: top;\n",
       "    }\n",
       "\n",
       "    .dataframe thead th {\n",
       "        text-align: right;\n",
       "    }\n",
       "</style>\n",
       "<table border=\"1\" class=\"dataframe\">\n",
       "  <thead>\n",
       "    <tr style=\"text-align: right;\">\n",
       "      <th></th>\n",
       "      <th>customer_id</th>\n",
       "      <th>product_name</th>\n",
       "      <th>purchase_date</th>\n",
       "    </tr>\n",
       "  </thead>\n",
       "  <tbody>\n",
       "    <tr>\n",
       "      <th>0</th>\n",
       "      <td>A</td>\n",
       "      <td>ramen</td>\n",
       "      <td>2021-01-10</td>\n",
       "    </tr>\n",
       "    <tr>\n",
       "      <th>1</th>\n",
       "      <td>B</td>\n",
       "      <td>sushi</td>\n",
       "      <td>2021-01-11</td>\n",
       "    </tr>\n",
       "  </tbody>\n",
       "</table>\n",
       "</div>"
      ],
      "text/plain": [
       "  customer_id product_name purchase_date\n",
       "0           A        ramen    2021-01-10\n",
       "1           B        sushi    2021-01-11"
      ]
     },
     "execution_count": 75,
     "metadata": {},
     "output_type": "execute_result"
    }
   ],
   "source": [
    "query = \"\"\"\n",
    "    WITH FilteredPurchases AS (\n",
    "        SELECT sales.customer_id, menu.product_name, sales.order_date, members.join_date FROM sales\n",
    "        JOIN menu ON sales.product_id = menu.product_id\n",
    "        JOIN members ON sales.customer_id = members.customer_id\n",
    "        WHERE sales.order_date > members.join_date\n",
    "    ),\n",
    "    RankedPurchases AS (\n",
    "        SELECT customer_id, product_name, order_date, RANK() OVER (PARTITION BY customer_id ORDER BY order_date ASC) AS rank\n",
    "        FROM FilteredPurchases\n",
    "    )\n",
    "    SELECT customer_id, product_name, order_date FROM RankedPurchases\n",
    "    WHERE rank = 1;\n",
    "    \"\"\"\n",
    "\n",
    "cursor.execute(sql.SQL(query))\n",
    "sql_table = cursor.fetchall()\n",
    "frst_mem_purc_df = pd.DataFrame(sql_table, columns=['customer_id', 'product_name', 'purchase_date'])\n",
    "frst_mem_purc_df\n"
   ]
  },
  {
   "cell_type": "markdown",
   "metadata": {},
   "source": [
    "---\n",
    "What is the total items and amount spent for each member before they became a member?"
   ]
  },
  {
   "cell_type": "code",
   "execution_count": 86,
   "metadata": {},
   "outputs": [
    {
     "data": {
      "text/html": [
       "<div>\n",
       "<style scoped>\n",
       "    .dataframe tbody tr th:only-of-type {\n",
       "        vertical-align: middle;\n",
       "    }\n",
       "\n",
       "    .dataframe tbody tr th {\n",
       "        vertical-align: top;\n",
       "    }\n",
       "\n",
       "    .dataframe thead th {\n",
       "        text-align: right;\n",
       "    }\n",
       "</style>\n",
       "<table border=\"1\" class=\"dataframe\">\n",
       "  <thead>\n",
       "    <tr style=\"text-align: right;\">\n",
       "      <th></th>\n",
       "      <th>customer_id</th>\n",
       "      <th>tot_premem_items</th>\n",
       "      <th>tot_premem_spent</th>\n",
       "    </tr>\n",
       "  </thead>\n",
       "  <tbody>\n",
       "    <tr>\n",
       "      <th>0</th>\n",
       "      <td>B</td>\n",
       "      <td>3</td>\n",
       "      <td>40</td>\n",
       "    </tr>\n",
       "    <tr>\n",
       "      <th>1</th>\n",
       "      <td>A</td>\n",
       "      <td>2</td>\n",
       "      <td>25</td>\n",
       "    </tr>\n",
       "  </tbody>\n",
       "</table>\n",
       "</div>"
      ],
      "text/plain": [
       "  customer_id  tot_premem_items  tot_premem_spent\n",
       "0           B                 3                40\n",
       "1           A                 2                25"
      ]
     },
     "execution_count": 86,
     "metadata": {},
     "output_type": "execute_result"
    }
   ],
   "source": [
    "query = \"\"\"\n",
    "    SELECT sales.customer_id, COUNT(menu.product_name), SUM(menu.price) FROM sales\n",
    "    JOIN menu ON sales.product_id = menu.product_id\n",
    "    JOIN members ON sales.customer_id = members.customer_id\n",
    "    WHERE sales.order_date < members.join_date\n",
    "    GROUP BY sales.customer_id;\n",
    "    \"\"\"\n",
    "\n",
    "cursor.execute(sql.SQL(query))\n",
    "sql_table = cursor.fetchall()\n",
    "premem_purc_tot_df = pd.DataFrame(sql_table, columns=['customer_id', 'tot_premem_items', 'tot_premem_spent'])\n",
    "premem_purc_tot_df "
   ]
  },
  {
   "cell_type": "markdown",
   "metadata": {},
   "source": [
    "---\n",
    "If each $1 spent equates to 10 points and sushi has a 2x points multiplier - how many points would each customer have?\n",
    "- Assume that this is only after membership was started"
   ]
  },
  {
   "cell_type": "code",
   "execution_count": 89,
   "metadata": {},
   "outputs": [
    {
     "data": {
      "text/html": [
       "<div>\n",
       "<style scoped>\n",
       "    .dataframe tbody tr th:only-of-type {\n",
       "        vertical-align: middle;\n",
       "    }\n",
       "\n",
       "    .dataframe tbody tr th {\n",
       "        vertical-align: top;\n",
       "    }\n",
       "\n",
       "    .dataframe thead th {\n",
       "        text-align: right;\n",
       "    }\n",
       "</style>\n",
       "<table border=\"1\" class=\"dataframe\">\n",
       "  <thead>\n",
       "    <tr style=\"text-align: right;\">\n",
       "      <th></th>\n",
       "      <th>0</th>\n",
       "      <th>1</th>\n",
       "      <th>2</th>\n",
       "    </tr>\n",
       "  </thead>\n",
       "  <tbody>\n",
       "    <tr>\n",
       "      <th>0</th>\n",
       "      <td>B</td>\n",
       "      <td>sushi</td>\n",
       "      <td>10</td>\n",
       "    </tr>\n",
       "    <tr>\n",
       "      <th>1</th>\n",
       "      <td>A</td>\n",
       "      <td>ramen</td>\n",
       "      <td>12</td>\n",
       "    </tr>\n",
       "    <tr>\n",
       "      <th>2</th>\n",
       "      <td>A</td>\n",
       "      <td>ramen</td>\n",
       "      <td>12</td>\n",
       "    </tr>\n",
       "    <tr>\n",
       "      <th>3</th>\n",
       "      <td>A</td>\n",
       "      <td>ramen</td>\n",
       "      <td>12</td>\n",
       "    </tr>\n",
       "    <tr>\n",
       "      <th>4</th>\n",
       "      <td>B</td>\n",
       "      <td>ramen</td>\n",
       "      <td>12</td>\n",
       "    </tr>\n",
       "    <tr>\n",
       "      <th>5</th>\n",
       "      <td>B</td>\n",
       "      <td>ramen</td>\n",
       "      <td>12</td>\n",
       "    </tr>\n",
       "  </tbody>\n",
       "</table>\n",
       "</div>"
      ],
      "text/plain": [
       "   0      1   2\n",
       "0  B  sushi  10\n",
       "1  A  ramen  12\n",
       "2  A  ramen  12\n",
       "3  A  ramen  12\n",
       "4  B  ramen  12\n",
       "5  B  ramen  12"
      ]
     },
     "execution_count": 89,
     "metadata": {},
     "output_type": "execute_result"
    }
   ],
   "source": [
    "# Assume that this is only after membership was started\n",
    "query = \"\"\"\n",
    "    SELECT sales.customer_id, menu.product_name, menu.price FROM sales\n",
    "    JOIN menu ON sales.product_id = menu.product_id\n",
    "    JOIN members ON sales.customer_id = members.customer_id\n",
    "    WHERE sales.order_date > members.join_date;\n",
    "    \"\"\"\n",
    "\n",
    "cursor.execute(sql.SQL(query))\n",
    "sql_table = cursor.fetchall()\n",
    "premem_purc_tot_df = pd.DataFrame(sql_table) #, columns=['customer_id', 'tot_premem_items', 'tot_premem_spent'])\n",
    "premem_purc_tot_df "
   ]
  },
  {
   "cell_type": "code",
   "execution_count": 90,
   "metadata": {},
   "outputs": [
    {
     "data": {
      "text/html": [
       "<div>\n",
       "<style scoped>\n",
       "    .dataframe tbody tr th:only-of-type {\n",
       "        vertical-align: middle;\n",
       "    }\n",
       "\n",
       "    .dataframe tbody tr th {\n",
       "        vertical-align: top;\n",
       "    }\n",
       "\n",
       "    .dataframe thead th {\n",
       "        text-align: right;\n",
       "    }\n",
       "</style>\n",
       "<table border=\"1\" class=\"dataframe\">\n",
       "  <thead>\n",
       "    <tr style=\"text-align: right;\">\n",
       "      <th></th>\n",
       "      <th>customer_id</th>\n",
       "      <th>points</th>\n",
       "    </tr>\n",
       "  </thead>\n",
       "  <tbody>\n",
       "    <tr>\n",
       "      <th>0</th>\n",
       "      <td>B</td>\n",
       "      <td>440</td>\n",
       "    </tr>\n",
       "    <tr>\n",
       "      <th>1</th>\n",
       "      <td>A</td>\n",
       "      <td>360</td>\n",
       "    </tr>\n",
       "  </tbody>\n",
       "</table>\n",
       "</div>"
      ],
      "text/plain": [
       "  customer_id  points\n",
       "0           B     440\n",
       "1           A     360"
      ]
     },
     "execution_count": 90,
     "metadata": {},
     "output_type": "execute_result"
    }
   ],
   "source": [
    "query = \"\"\"\n",
    "    SELECT \n",
    "        sales.customer_id, \n",
    "        SUM(\n",
    "            CASE \n",
    "                WHEN menu.product_name = 'sushi' THEN 20 * menu.price\n",
    "                ELSE 10 * menu.price \n",
    "            END\n",
    "        ) AS points\n",
    "    FROM sales\n",
    "    JOIN menu ON sales.product_id = menu.product_id\n",
    "    JOIN members ON sales.customer_id = members.customer_id\n",
    "    WHERE sales.order_date > members.join_date\n",
    "    GROUP BY sales.customer_id;\n",
    "    \"\"\"\n",
    "\n",
    "cursor.execute(sql.SQL(query))\n",
    "sql_table = cursor.fetchall()\n",
    "points_df = pd.DataFrame(sql_table, columns=['customer_id', 'points'])\n",
    "points_df"
   ]
  },
  {
   "cell_type": "markdown",
   "metadata": {},
   "source": [
    "---\n",
    "In the first week after a customer joins the program (including their join date) they earn 2x points on all items, not just sushi - how many points do customer A and B have at the end of January?"
   ]
  },
  {
   "cell_type": "code",
   "execution_count": 98,
   "metadata": {},
   "outputs": [
    {
     "data": {
      "text/html": [
       "<div>\n",
       "<style scoped>\n",
       "    .dataframe tbody tr th:only-of-type {\n",
       "        vertical-align: middle;\n",
       "    }\n",
       "\n",
       "    .dataframe tbody tr th {\n",
       "        vertical-align: top;\n",
       "    }\n",
       "\n",
       "    .dataframe thead th {\n",
       "        text-align: right;\n",
       "    }\n",
       "</style>\n",
       "<table border=\"1\" class=\"dataframe\">\n",
       "  <thead>\n",
       "    <tr style=\"text-align: right;\">\n",
       "      <th></th>\n",
       "      <th>customer_id</th>\n",
       "      <th>points</th>\n",
       "    </tr>\n",
       "  </thead>\n",
       "  <tbody>\n",
       "    <tr>\n",
       "      <th>0</th>\n",
       "      <td>A</td>\n",
       "      <td>720</td>\n",
       "    </tr>\n",
       "    <tr>\n",
       "      <th>1</th>\n",
       "      <td>B</td>\n",
       "      <td>440</td>\n",
       "    </tr>\n",
       "  </tbody>\n",
       "</table>\n",
       "</div>"
      ],
      "text/plain": [
       "  customer_id  points\n",
       "0           A     720\n",
       "1           B     440"
      ]
     },
     "execution_count": 98,
     "metadata": {},
     "output_type": "execute_result"
    }
   ],
   "source": [
    "query = \"\"\"\n",
    "    SELECT \n",
    "        sales.customer_id, \n",
    "        SUM(\n",
    "            CASE \n",
    "                WHEN menu.product_name = 'sushi' THEN 20 * menu.price\n",
    "                WHEN sales.order_date < members.join_date + INTERVAL '7 days' THEN 20 * menu.price\n",
    "                ELSE 10 * menu.price \n",
    "            END\n",
    "        ) AS points\n",
    "    FROM sales\n",
    "    JOIN menu ON sales.product_id = menu.product_id\n",
    "    JOIN members ON sales.customer_id = members.customer_id\n",
    "    WHERE sales.order_date > members.join_date\n",
    "    GROUP BY sales.customer_id;\n",
    "    \"\"\"\n",
    "\n",
    "cursor.execute(sql.SQL(query))\n",
    "sql_table = cursor.fetchall()\n",
    "jan_points_df = pd.DataFrame(sql_table, columns=['customer_id', 'points'])\n",
    "jan_points_df.sort_values(by='points', ascending=False).reset_index(drop=True)"
   ]
  }
 ],
 "metadata": {
  "kernelspec": {
   "display_name": "Python 3",
   "language": "python",
   "name": "python3"
  },
  "language_info": {
   "codemirror_mode": {
    "name": "ipython",
    "version": 3
   },
   "file_extension": ".py",
   "mimetype": "text/x-python",
   "name": "python",
   "nbconvert_exporter": "python",
   "pygments_lexer": "ipython3",
   "version": "3.12.5"
  }
 },
 "nbformat": 4,
 "nbformat_minor": 2
}
