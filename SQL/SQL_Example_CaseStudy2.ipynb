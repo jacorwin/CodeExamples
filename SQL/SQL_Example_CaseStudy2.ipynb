{
 "cells": [
  {
   "cell_type": "markdown",
   "metadata": {},
   "source": [
    "# Purpose:\n",
    "\n",
    "To address the activities in the coding exercise (https://8weeksqlchallenge.com/case-study-2/) as an example of SQL queries. \n"
   ]
  },
  {
   "cell_type": "markdown",
   "metadata": {},
   "source": [
    "## Introduction\n",
    "\n",
    "Danny was scrolling through his Instagram feed when something really caught his eye - “80s Retro Styling and Pizza Is The Future!”\n",
    "\n",
    "Danny was sold on the idea, but he knew that pizza alone was not going to help him get seed funding to expand his new Pizza Empire - so he had one more genius idea to combine with it - he was going to Uberize it - and so Pizza Runner was launched!\n",
    "\n",
    "Danny started by recruiting “runners” to deliver fresh pizza from Pizza Runner Headquarters (otherwise known as Danny’s house) and also maxed out his credit card to pay freelance developers to build a mobile app to accept orders from customers.\n",
    "\n",
    "## Available Data\n",
    "Because Danny had a few years of experience as a data scientist - he was very aware that data collection was going to be critical for his business’ growth.\n",
    "\n",
    "He has prepared for us an entity relationship diagram of his database design but requires further assistance to clean his data and apply some basic calculations so he can better direct his runners and optimise Pizza Runner’s operations.\n",
    "\n",
    "All datasets exist within the pizza_runner database schema - be sure to include this reference within your SQL scripts as you start exploring the data and answering the case study questions."
   ]
  },
  {
   "cell_type": "markdown",
   "metadata": {},
   "source": [
    "# Load Libraries"
   ]
  },
  {
   "cell_type": "code",
   "execution_count": 193,
   "metadata": {},
   "outputs": [],
   "source": [
    "import os\n",
    "import psycopg2\n",
    "from psycopg2 import sql\n",
    "import numpy as np\n",
    "import pandas as pd\n",
    "import statsmodels.api as sm\n",
    "import matplotlib.pyplot as plt"
   ]
  },
  {
   "cell_type": "markdown",
   "metadata": {},
   "source": [
    "# Connect to local PostgreSQL Database"
   ]
  },
  {
   "cell_type": "code",
   "execution_count": 252,
   "metadata": {},
   "outputs": [
    {
     "name": "stdout",
     "output_type": "stream",
     "text": [
      "('PostgreSQL 16.3 (Homebrew) on aarch64-apple-darwin23.4.0, compiled by Apple clang version 15.0.0 (clang-1500.3.9.4), 64-bit',)\n"
     ]
    }
   ],
   "source": [
    "# Retrieve environment variables\n",
    "dbname = os.getenv(\"DB_NAME\")\n",
    "user = os.getenv(\"DB_USER\")\n",
    "password = os.getenv(\"DB_PASSWORD\")\n",
    "host = os.getenv(\"DB_HOST\", \"localhost\")\n",
    "port = os.getenv(\"DB_PORT\", \"5432\")\n",
    "schema = os.getenv(\"DB_SCHEMA\", \"pizza_runner\")\n",
    "\n",
    "# Establish a connection\n",
    "connection = psycopg2.connect(\n",
    "    dbname=dbname,\n",
    "    user=user,\n",
    "    password=password,\n",
    "    host=host,\n",
    "    port=port\n",
    ")\n",
    "cursor = connection.cursor()\n",
    "cursor.execute(\"SELECT version();\")\n",
    "print(cursor.fetchone())\n",
    "\n",
    "# Set the schema\n",
    "cursor.execute(sql.SQL(\"SET search_path TO {}\").format(sql.Identifier(schema)))"
   ]
  },
  {
   "cell_type": "code",
   "execution_count": 4,
   "metadata": {},
   "outputs": [
    {
     "data": {
      "text/plain": [
       "[(1, 1, '2020-01-01 18:15:34', '20km', '32 minutes', ''),\n",
       " (2, 1, '2020-01-01 19:10:54', '20km', '27 minutes', ''),\n",
       " (3, 1, '2020-01-03 00:12:37', '13.4km', '20 mins', None),\n",
       " (4, 2, '2020-01-04 13:53:03', '23.4', '40', None),\n",
       " (5, 3, '2020-01-08 21:10:57', '10', '15', None)]"
      ]
     },
     "execution_count": 4,
     "metadata": {},
     "output_type": "execute_result"
    }
   ],
   "source": [
    "# Test connection with a simple query\n",
    "cursor.execute(sql.SQL(\"SELECT * FROM runner_orders LIMIT 5;\"))\n",
    "cursor.fetchall()"
   ]
  },
  {
   "cell_type": "markdown",
   "metadata": {},
   "source": [
    "# Questions from Client\n",
    "\n",
    "This case study has LOTS of questions - they are broken up by area of focus including:\n",
    "\n",
    "Pizza Metrics\n",
    "Runner and Customer Experience\n",
    "Ingredient Optimisation\n",
    "Pricing and Ratings\n",
    "Bonus DML Challenges (DML = Data Manipulation Language)\n",
    "Each of the following case study questions can be answered using a single SQL statement.\n",
    "\n",
    "Again, there are many questions in this case study - please feel free to pick and choose which ones you’d like to try!\n",
    "\n"
   ]
  },
  {
   "cell_type": "markdown",
   "metadata": {},
   "source": [
    "---\n",
    "## A. Pizza Metrics\n",
    "How many pizzas were ordered?"
   ]
  },
  {
   "cell_type": "code",
   "execution_count": 113,
   "metadata": {},
   "outputs": [
    {
     "name": "stdout",
     "output_type": "stream",
     "text": [
      "A total of 14 pizzas have been ordered.\n"
     ]
    }
   ],
   "source": [
    "query = \"\"\"\n",
    "    SELECT COUNT(*) FROM customer_orders;\n",
    "    \"\"\"\n",
    "\n",
    "cursor.execute(sql.SQL(query))\n",
    "num_pizzas_ordered = cursor.fetchall()[0][0]\n",
    "print(f\"A total of {num_pizzas_ordered} pizzas have been ordered.\")"
   ]
  },
  {
   "cell_type": "markdown",
   "metadata": {},
   "source": [
    "How many unique customer orders were made?"
   ]
  },
  {
   "cell_type": "code",
   "execution_count": 114,
   "metadata": {},
   "outputs": [
    {
     "name": "stdout",
     "output_type": "stream",
     "text": [
      "A total of 8 orders have been made.\n"
     ]
    },
    {
     "data": {
      "text/html": [
       "<div>\n",
       "<style scoped>\n",
       "    .dataframe tbody tr th:only-of-type {\n",
       "        vertical-align: middle;\n",
       "    }\n",
       "\n",
       "    .dataframe tbody tr th {\n",
       "        vertical-align: top;\n",
       "    }\n",
       "\n",
       "    .dataframe thead th {\n",
       "        text-align: right;\n",
       "    }\n",
       "</style>\n",
       "<table border=\"1\" class=\"dataframe\">\n",
       "  <thead>\n",
       "    <tr style=\"text-align: right;\">\n",
       "      <th></th>\n",
       "      <th>order_id</th>\n",
       "      <th>runner_id</th>\n",
       "      <th>pickup_time</th>\n",
       "      <th>distance</th>\n",
       "      <th>duration</th>\n",
       "      <th>cancellation</th>\n",
       "    </tr>\n",
       "  </thead>\n",
       "  <tbody>\n",
       "    <tr>\n",
       "      <th>0</th>\n",
       "      <td>1</td>\n",
       "      <td>1</td>\n",
       "      <td>2020-01-01 18:15:34</td>\n",
       "      <td>20km</td>\n",
       "      <td>32 minutes</td>\n",
       "      <td></td>\n",
       "    </tr>\n",
       "    <tr>\n",
       "      <th>1</th>\n",
       "      <td>2</td>\n",
       "      <td>1</td>\n",
       "      <td>2020-01-01 19:10:54</td>\n",
       "      <td>20km</td>\n",
       "      <td>27 minutes</td>\n",
       "      <td></td>\n",
       "    </tr>\n",
       "    <tr>\n",
       "      <th>2</th>\n",
       "      <td>3</td>\n",
       "      <td>1</td>\n",
       "      <td>2020-01-03 00:12:37</td>\n",
       "      <td>13.4km</td>\n",
       "      <td>20 mins</td>\n",
       "      <td>None</td>\n",
       "    </tr>\n",
       "    <tr>\n",
       "      <th>3</th>\n",
       "      <td>4</td>\n",
       "      <td>2</td>\n",
       "      <td>2020-01-04 13:53:03</td>\n",
       "      <td>23.4</td>\n",
       "      <td>40</td>\n",
       "      <td>None</td>\n",
       "    </tr>\n",
       "    <tr>\n",
       "      <th>4</th>\n",
       "      <td>5</td>\n",
       "      <td>3</td>\n",
       "      <td>2020-01-08 21:10:57</td>\n",
       "      <td>10</td>\n",
       "      <td>15</td>\n",
       "      <td>None</td>\n",
       "    </tr>\n",
       "    <tr>\n",
       "      <th>5</th>\n",
       "      <td>7</td>\n",
       "      <td>2</td>\n",
       "      <td>2020-01-08 21:30:45</td>\n",
       "      <td>25km</td>\n",
       "      <td>25mins</td>\n",
       "      <td>null</td>\n",
       "    </tr>\n",
       "    <tr>\n",
       "      <th>6</th>\n",
       "      <td>8</td>\n",
       "      <td>2</td>\n",
       "      <td>2020-01-10 00:15:02</td>\n",
       "      <td>23.4 km</td>\n",
       "      <td>15 minute</td>\n",
       "      <td>null</td>\n",
       "    </tr>\n",
       "    <tr>\n",
       "      <th>7</th>\n",
       "      <td>10</td>\n",
       "      <td>1</td>\n",
       "      <td>2020-01-11 18:50:20</td>\n",
       "      <td>10km</td>\n",
       "      <td>10minutes</td>\n",
       "      <td>null</td>\n",
       "    </tr>\n",
       "  </tbody>\n",
       "</table>\n",
       "</div>"
      ],
      "text/plain": [
       "   order_id  runner_id          pickup_time distance    duration cancellation\n",
       "0         1          1  2020-01-01 18:15:34     20km  32 minutes             \n",
       "1         2          1  2020-01-01 19:10:54     20km  27 minutes             \n",
       "2         3          1  2020-01-03 00:12:37   13.4km     20 mins         None\n",
       "3         4          2  2020-01-04 13:53:03     23.4          40         None\n",
       "4         5          3  2020-01-08 21:10:57       10          15         None\n",
       "5         7          2  2020-01-08 21:30:45     25km      25mins         null\n",
       "6         8          2  2020-01-10 00:15:02  23.4 km   15 minute         null\n",
       "7        10          1  2020-01-11 18:50:20     10km   10minutes         null"
      ]
     },
     "execution_count": 114,
     "metadata": {},
     "output_type": "execute_result"
    }
   ],
   "source": [
    "query = \"\"\"\n",
    "    SELECT * FROM runner_orders\n",
    "    WHERE (cancellation NOT LIKE '%Cancellation%' \n",
    "        OR cancellation IS NULL);\n",
    "    \"\"\"\n",
    "\n",
    "cursor.execute(sql.SQL(query))\n",
    "sql_table = cursor.fetchall()\n",
    "column_names = [desc[0] for desc in cursor.description]\n",
    "\n",
    "orders_made_df = pd.DataFrame(sql_table, columns=column_names)\n",
    "\n",
    "# Note: This can also be done by counting the number of rows in the pandas dataframe, but\n",
    "    # the purpose of the exercise is to do it in SQL.\n",
    "query = \"\"\"\n",
    "    SELECT COUNT(*) FROM runner_orders\n",
    "    WHERE (cancellation NOT LIKE '%Cancellation%' \n",
    "        OR cancellation IS NULL);\n",
    "    \"\"\"\n",
    "\n",
    "cursor.execute(sql.SQL(query))\n",
    "order_count = cursor.fetchone()[0]\n",
    "print(f\"A total of {order_count} orders have been made.\")\n",
    "orders_made_df"
   ]
  },
  {
   "cell_type": "markdown",
   "metadata": {},
   "source": [
    "How many successful orders were delivered by each runner?\n"
   ]
  },
  {
   "cell_type": "code",
   "execution_count": 115,
   "metadata": {},
   "outputs": [
    {
     "data": {
      "text/html": [
       "<div>\n",
       "<style scoped>\n",
       "    .dataframe tbody tr th:only-of-type {\n",
       "        vertical-align: middle;\n",
       "    }\n",
       "\n",
       "    .dataframe tbody tr th {\n",
       "        vertical-align: top;\n",
       "    }\n",
       "\n",
       "    .dataframe thead th {\n",
       "        text-align: right;\n",
       "    }\n",
       "</style>\n",
       "<table border=\"1\" class=\"dataframe\">\n",
       "  <thead>\n",
       "    <tr style=\"text-align: right;\">\n",
       "      <th></th>\n",
       "      <th>runner_id</th>\n",
       "      <th>tot_orders_deliv</th>\n",
       "    </tr>\n",
       "  </thead>\n",
       "  <tbody>\n",
       "    <tr>\n",
       "      <th>2</th>\n",
       "      <td>1</td>\n",
       "      <td>4</td>\n",
       "    </tr>\n",
       "    <tr>\n",
       "      <th>1</th>\n",
       "      <td>2</td>\n",
       "      <td>3</td>\n",
       "    </tr>\n",
       "    <tr>\n",
       "      <th>0</th>\n",
       "      <td>3</td>\n",
       "      <td>1</td>\n",
       "    </tr>\n",
       "  </tbody>\n",
       "</table>\n",
       "</div>"
      ],
      "text/plain": [
       "   runner_id  tot_orders_deliv\n",
       "2          1                 4\n",
       "1          2                 3\n",
       "0          3                 1"
      ]
     },
     "execution_count": 115,
     "metadata": {},
     "output_type": "execute_result"
    }
   ],
   "source": [
    "query = \"\"\"\n",
    "    SELECT ro.runner_id, COUNT(ro.order_id) AS tot_orders_deliv FROM runner_orders AS ro\n",
    "    WHERE (cancellation NOT LIKE '%Cancellation%' \n",
    "        OR cancellation IS NULL)\n",
    "    GROUP BY ro.runner_id;\n",
    "    \"\"\"\n",
    "\n",
    "cursor.execute(sql.SQL(query))\n",
    "sql_table = cursor.fetchall()\n",
    "column_names = [desc[0] for desc in cursor.description]\n",
    "\n",
    "orders_deliv_df = pd.DataFrame(sql_table, columns=column_names).sort_values(by=\"runner_id\")\n",
    "orders_deliv_df"
   ]
  },
  {
   "cell_type": "markdown",
   "metadata": {},
   "source": [
    "How many of each type of pizza was delivered?"
   ]
  },
  {
   "cell_type": "code",
   "execution_count": 116,
   "metadata": {},
   "outputs": [
    {
     "data": {
      "text/html": [
       "<div>\n",
       "<style scoped>\n",
       "    .dataframe tbody tr th:only-of-type {\n",
       "        vertical-align: middle;\n",
       "    }\n",
       "\n",
       "    .dataframe tbody tr th {\n",
       "        vertical-align: top;\n",
       "    }\n",
       "\n",
       "    .dataframe thead th {\n",
       "        text-align: right;\n",
       "    }\n",
       "</style>\n",
       "<table border=\"1\" class=\"dataframe\">\n",
       "  <thead>\n",
       "    <tr style=\"text-align: right;\">\n",
       "      <th></th>\n",
       "      <th>pizza_id</th>\n",
       "      <th>pizza_count</th>\n",
       "    </tr>\n",
       "  </thead>\n",
       "  <tbody>\n",
       "    <tr>\n",
       "      <th>0</th>\n",
       "      <td>1</td>\n",
       "      <td>9</td>\n",
       "    </tr>\n",
       "    <tr>\n",
       "      <th>1</th>\n",
       "      <td>2</td>\n",
       "      <td>3</td>\n",
       "    </tr>\n",
       "  </tbody>\n",
       "</table>\n",
       "</div>"
      ],
      "text/plain": [
       "   pizza_id  pizza_count\n",
       "0         1            9\n",
       "1         2            3"
      ]
     },
     "execution_count": 116,
     "metadata": {},
     "output_type": "execute_result"
    }
   ],
   "source": [
    "query = \"\"\"\n",
    "    SELECT co.pizza_id, COUNT(co.pizza_id) AS pizza_count FROM runner_orders AS ro\n",
    "    JOIN customer_orders AS co ON ro.order_id = co.order_id\n",
    "    WHERE (ro.cancellation NOT LIKE '%Cancellation%' \n",
    "        OR ro.cancellation IS NULL)\n",
    "    GROUP BY co.pizza_id;\n",
    "    \"\"\"\n",
    "\n",
    "cursor.execute(sql.SQL(query))\n",
    "sql_table = cursor.fetchall()\n",
    "column_names = [desc[0] for desc in cursor.description]\n",
    "\n",
    "pizza_count_df = pd.DataFrame(sql_table, columns=column_names).sort_values(by=\"pizza_id\").reset_index(drop=True)\n",
    "pizza_count_df"
   ]
  },
  {
   "cell_type": "markdown",
   "metadata": {},
   "source": [
    "How many Vegetarian and Meatlovers were ordered by each customer?"
   ]
  },
  {
   "cell_type": "code",
   "execution_count": 117,
   "metadata": {},
   "outputs": [
    {
     "data": {
      "text/html": [
       "<div>\n",
       "<style scoped>\n",
       "    .dataframe tbody tr th:only-of-type {\n",
       "        vertical-align: middle;\n",
       "    }\n",
       "\n",
       "    .dataframe tbody tr th {\n",
       "        vertical-align: top;\n",
       "    }\n",
       "\n",
       "    .dataframe thead th {\n",
       "        text-align: right;\n",
       "    }\n",
       "</style>\n",
       "<table border=\"1\" class=\"dataframe\">\n",
       "  <thead>\n",
       "    <tr style=\"text-align: right;\">\n",
       "      <th></th>\n",
       "      <th>customer_id</th>\n",
       "      <th>pizza_id</th>\n",
       "      <th>pizza_count</th>\n",
       "    </tr>\n",
       "  </thead>\n",
       "  <tbody>\n",
       "    <tr>\n",
       "      <th>0</th>\n",
       "      <td>101</td>\n",
       "      <td>1</td>\n",
       "      <td>2</td>\n",
       "    </tr>\n",
       "    <tr>\n",
       "      <th>1</th>\n",
       "      <td>102</td>\n",
       "      <td>1</td>\n",
       "      <td>2</td>\n",
       "    </tr>\n",
       "    <tr>\n",
       "      <th>2</th>\n",
       "      <td>102</td>\n",
       "      <td>2</td>\n",
       "      <td>1</td>\n",
       "    </tr>\n",
       "    <tr>\n",
       "      <th>3</th>\n",
       "      <td>103</td>\n",
       "      <td>1</td>\n",
       "      <td>2</td>\n",
       "    </tr>\n",
       "    <tr>\n",
       "      <th>4</th>\n",
       "      <td>103</td>\n",
       "      <td>2</td>\n",
       "      <td>1</td>\n",
       "    </tr>\n",
       "    <tr>\n",
       "      <th>5</th>\n",
       "      <td>104</td>\n",
       "      <td>1</td>\n",
       "      <td>3</td>\n",
       "    </tr>\n",
       "    <tr>\n",
       "      <th>6</th>\n",
       "      <td>105</td>\n",
       "      <td>2</td>\n",
       "      <td>1</td>\n",
       "    </tr>\n",
       "  </tbody>\n",
       "</table>\n",
       "</div>"
      ],
      "text/plain": [
       "   customer_id  pizza_id  pizza_count\n",
       "0          101         1            2\n",
       "1          102         1            2\n",
       "2          102         2            1\n",
       "3          103         1            2\n",
       "4          103         2            1\n",
       "5          104         1            3\n",
       "6          105         2            1"
      ]
     },
     "execution_count": 117,
     "metadata": {},
     "output_type": "execute_result"
    }
   ],
   "source": [
    "query = \"\"\"\n",
    "    SELECT co.customer_id, co.pizza_id, COUNT(co.pizza_id) AS pizza_count FROM runner_orders AS ro\n",
    "    JOIN customer_orders AS co ON ro.order_id = co.order_id\n",
    "    WHERE (ro.cancellation NOT LIKE '%Cancellation%' \n",
    "        OR ro.cancellation IS NULL)\n",
    "    GROUP BY co.pizza_id, co.customer_id;\n",
    "    \"\"\"\n",
    "\n",
    "cursor.execute(sql.SQL(query))\n",
    "sql_table = cursor.fetchall()\n",
    "column_names = [desc[0] for desc in cursor.description]\n",
    "\n",
    "pizza_count_df = pd.DataFrame(sql_table, \n",
    "                              columns=column_names).sort_values(by=[\"customer_id\", \n",
    "                                                                    \"pizza_id\"]\n",
    "                                                                    ).reset_index(drop=True)\n",
    "pizza_count_df"
   ]
  },
  {
   "cell_type": "markdown",
   "metadata": {},
   "source": [
    "What was the maximum number of pizzas delivered in a single order?"
   ]
  },
  {
   "cell_type": "code",
   "execution_count": 118,
   "metadata": {},
   "outputs": [
    {
     "data": {
      "text/html": [
       "<div>\n",
       "<style scoped>\n",
       "    .dataframe tbody tr th:only-of-type {\n",
       "        vertical-align: middle;\n",
       "    }\n",
       "\n",
       "    .dataframe tbody tr th {\n",
       "        vertical-align: top;\n",
       "    }\n",
       "\n",
       "    .dataframe thead th {\n",
       "        text-align: right;\n",
       "    }\n",
       "</style>\n",
       "<table border=\"1\" class=\"dataframe\">\n",
       "  <thead>\n",
       "    <tr style=\"text-align: right;\">\n",
       "      <th></th>\n",
       "      <th>order_id</th>\n",
       "      <th>tot_pizzas</th>\n",
       "    </tr>\n",
       "  </thead>\n",
       "  <tbody>\n",
       "    <tr>\n",
       "      <th>0</th>\n",
       "      <td>4</td>\n",
       "      <td>3</td>\n",
       "    </tr>\n",
       "  </tbody>\n",
       "</table>\n",
       "</div>"
      ],
      "text/plain": [
       "   order_id  tot_pizzas\n",
       "0         4           3"
      ]
     },
     "execution_count": 118,
     "metadata": {},
     "output_type": "execute_result"
    }
   ],
   "source": [
    "query = \"\"\"\n",
    "    SELECT ro.order_id, COUNT(co.pizza_id) AS tot_pizzas FROM runner_orders AS ro\n",
    "    JOIN customer_orders AS co ON ro.order_id = co.order_id\n",
    "    WHERE (ro.cancellation NOT LIKE '%Cancellation%' \n",
    "        OR ro.cancellation IS NULL)\n",
    "    GROUP BY ro.order_id\n",
    "    ORDER BY tot_pizzas DESC\n",
    "    ;\n",
    "    \"\"\"\n",
    "\n",
    "cursor.execute(sql.SQL(query))\n",
    "sql_table = [cursor.fetchone()]\n",
    "column_names = [desc[0] for desc in cursor.description]\n",
    "\n",
    "max_num_pizzas_df = pd.DataFrame(sql_table, columns=column_names)\n",
    "max_num_pizzas_df"
   ]
  },
  {
   "cell_type": "markdown",
   "metadata": {},
   "source": [
    "For each customer, how many delivered pizzas had at least 1 change and how many had no changes?"
   ]
  },
  {
   "cell_type": "code",
   "execution_count": 119,
   "metadata": {},
   "outputs": [
    {
     "data": {
      "text/html": [
       "<div>\n",
       "<style scoped>\n",
       "    .dataframe tbody tr th:only-of-type {\n",
       "        vertical-align: middle;\n",
       "    }\n",
       "\n",
       "    .dataframe tbody tr th {\n",
       "        vertical-align: top;\n",
       "    }\n",
       "\n",
       "    .dataframe thead th {\n",
       "        text-align: right;\n",
       "    }\n",
       "</style>\n",
       "<table border=\"1\" class=\"dataframe\">\n",
       "  <thead>\n",
       "    <tr style=\"text-align: right;\">\n",
       "      <th></th>\n",
       "      <th>order_id</th>\n",
       "      <th>runner_id</th>\n",
       "      <th>pickup_time</th>\n",
       "      <th>distance</th>\n",
       "      <th>duration</th>\n",
       "      <th>cancellation</th>\n",
       "      <th>order_id</th>\n",
       "      <th>customer_id</th>\n",
       "      <th>pizza_id</th>\n",
       "      <th>exclusions</th>\n",
       "      <th>extras</th>\n",
       "      <th>order_time</th>\n",
       "    </tr>\n",
       "  </thead>\n",
       "  <tbody>\n",
       "    <tr>\n",
       "      <th>0</th>\n",
       "      <td>1</td>\n",
       "      <td>1</td>\n",
       "      <td>2020-01-01 18:15:34</td>\n",
       "      <td>20km</td>\n",
       "      <td>32 minutes</td>\n",
       "      <td></td>\n",
       "      <td>1</td>\n",
       "      <td>101</td>\n",
       "      <td>1</td>\n",
       "      <td></td>\n",
       "      <td></td>\n",
       "      <td>2020-01-01 18:05:02</td>\n",
       "    </tr>\n",
       "    <tr>\n",
       "      <th>1</th>\n",
       "      <td>2</td>\n",
       "      <td>1</td>\n",
       "      <td>2020-01-01 19:10:54</td>\n",
       "      <td>20km</td>\n",
       "      <td>27 minutes</td>\n",
       "      <td></td>\n",
       "      <td>2</td>\n",
       "      <td>101</td>\n",
       "      <td>1</td>\n",
       "      <td></td>\n",
       "      <td></td>\n",
       "      <td>2020-01-01 19:00:52</td>\n",
       "    </tr>\n",
       "    <tr>\n",
       "      <th>2</th>\n",
       "      <td>3</td>\n",
       "      <td>1</td>\n",
       "      <td>2020-01-03 00:12:37</td>\n",
       "      <td>13.4km</td>\n",
       "      <td>20 mins</td>\n",
       "      <td>None</td>\n",
       "      <td>3</td>\n",
       "      <td>102</td>\n",
       "      <td>1</td>\n",
       "      <td></td>\n",
       "      <td></td>\n",
       "      <td>2020-01-02 23:51:23</td>\n",
       "    </tr>\n",
       "    <tr>\n",
       "      <th>3</th>\n",
       "      <td>3</td>\n",
       "      <td>1</td>\n",
       "      <td>2020-01-03 00:12:37</td>\n",
       "      <td>13.4km</td>\n",
       "      <td>20 mins</td>\n",
       "      <td>None</td>\n",
       "      <td>3</td>\n",
       "      <td>102</td>\n",
       "      <td>2</td>\n",
       "      <td></td>\n",
       "      <td>None</td>\n",
       "      <td>2020-01-02 23:51:23</td>\n",
       "    </tr>\n",
       "    <tr>\n",
       "      <th>4</th>\n",
       "      <td>4</td>\n",
       "      <td>2</td>\n",
       "      <td>2020-01-04 13:53:03</td>\n",
       "      <td>23.4</td>\n",
       "      <td>40</td>\n",
       "      <td>None</td>\n",
       "      <td>4</td>\n",
       "      <td>103</td>\n",
       "      <td>1</td>\n",
       "      <td>4</td>\n",
       "      <td></td>\n",
       "      <td>2020-01-04 13:23:46</td>\n",
       "    </tr>\n",
       "    <tr>\n",
       "      <th>5</th>\n",
       "      <td>4</td>\n",
       "      <td>2</td>\n",
       "      <td>2020-01-04 13:53:03</td>\n",
       "      <td>23.4</td>\n",
       "      <td>40</td>\n",
       "      <td>None</td>\n",
       "      <td>4</td>\n",
       "      <td>103</td>\n",
       "      <td>1</td>\n",
       "      <td>4</td>\n",
       "      <td></td>\n",
       "      <td>2020-01-04 13:23:46</td>\n",
       "    </tr>\n",
       "    <tr>\n",
       "      <th>6</th>\n",
       "      <td>4</td>\n",
       "      <td>2</td>\n",
       "      <td>2020-01-04 13:53:03</td>\n",
       "      <td>23.4</td>\n",
       "      <td>40</td>\n",
       "      <td>None</td>\n",
       "      <td>4</td>\n",
       "      <td>103</td>\n",
       "      <td>2</td>\n",
       "      <td>4</td>\n",
       "      <td></td>\n",
       "      <td>2020-01-04 13:23:46</td>\n",
       "    </tr>\n",
       "    <tr>\n",
       "      <th>7</th>\n",
       "      <td>5</td>\n",
       "      <td>3</td>\n",
       "      <td>2020-01-08 21:10:57</td>\n",
       "      <td>10</td>\n",
       "      <td>15</td>\n",
       "      <td>None</td>\n",
       "      <td>5</td>\n",
       "      <td>104</td>\n",
       "      <td>1</td>\n",
       "      <td>null</td>\n",
       "      <td>1</td>\n",
       "      <td>2020-01-08 21:00:29</td>\n",
       "    </tr>\n",
       "    <tr>\n",
       "      <th>8</th>\n",
       "      <td>7</td>\n",
       "      <td>2</td>\n",
       "      <td>2020-01-08 21:30:45</td>\n",
       "      <td>25km</td>\n",
       "      <td>25mins</td>\n",
       "      <td>null</td>\n",
       "      <td>7</td>\n",
       "      <td>105</td>\n",
       "      <td>2</td>\n",
       "      <td>null</td>\n",
       "      <td>1</td>\n",
       "      <td>2020-01-08 21:20:29</td>\n",
       "    </tr>\n",
       "    <tr>\n",
       "      <th>9</th>\n",
       "      <td>8</td>\n",
       "      <td>2</td>\n",
       "      <td>2020-01-10 00:15:02</td>\n",
       "      <td>23.4 km</td>\n",
       "      <td>15 minute</td>\n",
       "      <td>null</td>\n",
       "      <td>8</td>\n",
       "      <td>102</td>\n",
       "      <td>1</td>\n",
       "      <td>null</td>\n",
       "      <td>null</td>\n",
       "      <td>2020-01-09 23:54:33</td>\n",
       "    </tr>\n",
       "    <tr>\n",
       "      <th>10</th>\n",
       "      <td>10</td>\n",
       "      <td>1</td>\n",
       "      <td>2020-01-11 18:50:20</td>\n",
       "      <td>10km</td>\n",
       "      <td>10minutes</td>\n",
       "      <td>null</td>\n",
       "      <td>10</td>\n",
       "      <td>104</td>\n",
       "      <td>1</td>\n",
       "      <td>null</td>\n",
       "      <td>null</td>\n",
       "      <td>2020-01-11 18:34:49</td>\n",
       "    </tr>\n",
       "    <tr>\n",
       "      <th>11</th>\n",
       "      <td>10</td>\n",
       "      <td>1</td>\n",
       "      <td>2020-01-11 18:50:20</td>\n",
       "      <td>10km</td>\n",
       "      <td>10minutes</td>\n",
       "      <td>null</td>\n",
       "      <td>10</td>\n",
       "      <td>104</td>\n",
       "      <td>1</td>\n",
       "      <td>2, 6</td>\n",
       "      <td>1, 4</td>\n",
       "      <td>2020-01-11 18:34:49</td>\n",
       "    </tr>\n",
       "  </tbody>\n",
       "</table>\n",
       "</div>"
      ],
      "text/plain": [
       "    order_id  runner_id          pickup_time distance    duration  \\\n",
       "0          1          1  2020-01-01 18:15:34     20km  32 minutes   \n",
       "1          2          1  2020-01-01 19:10:54     20km  27 minutes   \n",
       "2          3          1  2020-01-03 00:12:37   13.4km     20 mins   \n",
       "3          3          1  2020-01-03 00:12:37   13.4km     20 mins   \n",
       "4          4          2  2020-01-04 13:53:03     23.4          40   \n",
       "5          4          2  2020-01-04 13:53:03     23.4          40   \n",
       "6          4          2  2020-01-04 13:53:03     23.4          40   \n",
       "7          5          3  2020-01-08 21:10:57       10          15   \n",
       "8          7          2  2020-01-08 21:30:45     25km      25mins   \n",
       "9          8          2  2020-01-10 00:15:02  23.4 km   15 minute   \n",
       "10        10          1  2020-01-11 18:50:20     10km   10minutes   \n",
       "11        10          1  2020-01-11 18:50:20     10km   10minutes   \n",
       "\n",
       "   cancellation  order_id  customer_id  pizza_id exclusions extras  \\\n",
       "0                       1          101         1                     \n",
       "1                       2          101         1                     \n",
       "2          None         3          102         1                     \n",
       "3          None         3          102         2              None   \n",
       "4          None         4          103         1          4          \n",
       "5          None         4          103         1          4          \n",
       "6          None         4          103         2          4          \n",
       "7          None         5          104         1       null      1   \n",
       "8          null         7          105         2       null      1   \n",
       "9          null         8          102         1       null   null   \n",
       "10         null        10          104         1       null   null   \n",
       "11         null        10          104         1       2, 6   1, 4   \n",
       "\n",
       "            order_time  \n",
       "0  2020-01-01 18:05:02  \n",
       "1  2020-01-01 19:00:52  \n",
       "2  2020-01-02 23:51:23  \n",
       "3  2020-01-02 23:51:23  \n",
       "4  2020-01-04 13:23:46  \n",
       "5  2020-01-04 13:23:46  \n",
       "6  2020-01-04 13:23:46  \n",
       "7  2020-01-08 21:00:29  \n",
       "8  2020-01-08 21:20:29  \n",
       "9  2020-01-09 23:54:33  \n",
       "10 2020-01-11 18:34:49  \n",
       "11 2020-01-11 18:34:49  "
      ]
     },
     "execution_count": 119,
     "metadata": {},
     "output_type": "execute_result"
    }
   ],
   "source": [
    "# Show the table with the order counts\n",
    "query = \"\"\"\n",
    "    SELECT * FROM runner_orders AS ro\n",
    "    JOIN customer_orders AS co ON ro.order_id = co.order_id\n",
    "    WHERE (ro.cancellation NOT LIKE '%Cancellation%' \n",
    "        OR ro.cancellation IS NULL)\n",
    "    ;\n",
    "    \"\"\"\n",
    "\n",
    "cursor.execute(sql.SQL(query))\n",
    "sql_table = cursor.fetchall()\n",
    "column_names = [desc[0] for desc in cursor.description]\n",
    "\n",
    "num_changes_df = pd.DataFrame(sql_table, columns=column_names)\n",
    "num_changes_df"
   ]
  },
  {
   "cell_type": "code",
   "execution_count": 120,
   "metadata": {},
   "outputs": [
    {
     "name": "stdout",
     "output_type": "stream",
     "text": [
      "A total of 6 orders have had changes made to them.\n"
     ]
    }
   ],
   "source": [
    "query = \"\"\"\n",
    "    SELECT COUNT(*) FROM runner_orders AS ro\n",
    "    JOIN customer_orders AS co ON ro.order_id = co.order_id\n",
    "    WHERE (ro.cancellation NOT LIKE '%Cancellation%' \n",
    "        OR ro.cancellation IS NULL)\n",
    "    AND ((co.exclusions IS NOT NULL\n",
    "        AND co.exclusions ~ '[0-9]')\n",
    "    OR (co.extras IS NOT NULL\n",
    "        AND co.extras ~ '[0-9]'))\n",
    "    ;\n",
    "    \"\"\"\n",
    "\n",
    "cursor.execute(sql.SQL(query))\n",
    "num_orders_w_change = cursor.fetchall()[0][0]\n",
    "print(f\"A total of {num_orders_w_change} orders have had changes made to them.\")"
   ]
  },
  {
   "cell_type": "code",
   "execution_count": 121,
   "metadata": {},
   "outputs": [
    {
     "name": "stdout",
     "output_type": "stream",
     "text": [
      "A total of 6 orders have had NO changes made to them.\n"
     ]
    }
   ],
   "source": [
    "query = \"\"\"\n",
    "    SELECT COUNT(*) FROM runner_orders AS ro\n",
    "    JOIN customer_orders AS co ON ro.order_id = co.order_id\n",
    "    WHERE (ro.cancellation NOT LIKE '%Cancellation%' \n",
    "        OR ro.cancellation IS NULL)\n",
    "    AND (co.exclusions IS NULL\n",
    "        OR co.exclusions !~ '[0-9]')\n",
    "    AND (co.extras IS NULL\n",
    "        OR co.extras !~ '[0-9]')\n",
    "    ;\n",
    "    \"\"\"\n",
    "\n",
    "cursor.execute(sql.SQL(query))\n",
    "num_orders_wo_change = cursor.fetchall()[0][0]\n",
    "print(f\"A total of {num_orders_wo_change} orders have had NO changes made to them.\")"
   ]
  },
  {
   "cell_type": "markdown",
   "metadata": {},
   "source": [
    "How many pizzas were delivered that had both exclusions and extras?"
   ]
  },
  {
   "cell_type": "code",
   "execution_count": 122,
   "metadata": {},
   "outputs": [
    {
     "name": "stdout",
     "output_type": "stream",
     "text": [
      "A total of 1 pizza(s) with both exclusions and extras were delivered.\n"
     ]
    }
   ],
   "source": [
    "query = \"\"\"\n",
    "    SELECT COUNT(*) FROM runner_orders AS ro\n",
    "    JOIN customer_orders AS co ON ro.order_id = co.order_id\n",
    "    WHERE (ro.cancellation NOT LIKE '%Cancellation%' \n",
    "        OR ro.cancellation IS NULL)\n",
    "    AND (co.exclusions ~ '[0-9]'\n",
    "        AND co.extras ~ '[0-9]')\n",
    "    ;\n",
    "    \"\"\"\n",
    "\n",
    "cursor.execute(sql.SQL(query))\n",
    "num_orders_w_multi_change = cursor.fetchall()[0][0]\n",
    "print(f\"A total of {num_orders_w_multi_change} pizza(s) with both exclusions and extras were delivered.\")"
   ]
  },
  {
   "cell_type": "markdown",
   "metadata": {},
   "source": [
    "What was the total volume of pizzas ordered for each hour of the day?"
   ]
  },
  {
   "cell_type": "code",
   "execution_count": 123,
   "metadata": {},
   "outputs": [
    {
     "data": {
      "text/html": [
       "<div>\n",
       "<style scoped>\n",
       "    .dataframe tbody tr th:only-of-type {\n",
       "        vertical-align: middle;\n",
       "    }\n",
       "\n",
       "    .dataframe tbody tr th {\n",
       "        vertical-align: top;\n",
       "    }\n",
       "\n",
       "    .dataframe thead th {\n",
       "        text-align: right;\n",
       "    }\n",
       "</style>\n",
       "<table border=\"1\" class=\"dataframe\">\n",
       "  <thead>\n",
       "    <tr style=\"text-align: right;\">\n",
       "      <th></th>\n",
       "      <th>order_hour</th>\n",
       "      <th>pizza_count</th>\n",
       "    </tr>\n",
       "  </thead>\n",
       "  <tbody>\n",
       "    <tr>\n",
       "      <th>0</th>\n",
       "      <td>13</td>\n",
       "      <td>3</td>\n",
       "    </tr>\n",
       "    <tr>\n",
       "      <th>1</th>\n",
       "      <td>18</td>\n",
       "      <td>3</td>\n",
       "    </tr>\n",
       "    <tr>\n",
       "      <th>2</th>\n",
       "      <td>19</td>\n",
       "      <td>1</td>\n",
       "    </tr>\n",
       "    <tr>\n",
       "      <th>3</th>\n",
       "      <td>21</td>\n",
       "      <td>2</td>\n",
       "    </tr>\n",
       "    <tr>\n",
       "      <th>4</th>\n",
       "      <td>23</td>\n",
       "      <td>3</td>\n",
       "    </tr>\n",
       "  </tbody>\n",
       "</table>\n",
       "</div>"
      ],
      "text/plain": [
       "  order_hour  pizza_count\n",
       "0         13            3\n",
       "1         18            3\n",
       "2         19            1\n",
       "3         21            2\n",
       "4         23            3"
      ]
     },
     "execution_count": 123,
     "metadata": {},
     "output_type": "execute_result"
    }
   ],
   "source": [
    "query = \"\"\"\n",
    "    SELECT EXTRACT(HOUR FROM co.order_time) AS order_hour, COUNT(*) AS pizza_count\n",
    "    FROM runner_orders AS ro\n",
    "    JOIN customer_orders AS co ON ro.order_id = co.order_id\n",
    "    WHERE (ro.cancellation NOT LIKE '%Cancellation%' \n",
    "        OR ro.cancellation IS NULL)\n",
    "    GROUP BY order_hour\n",
    "    ORDER BY order_hour\n",
    "    ;\n",
    "    \"\"\"\n",
    "\n",
    "cursor.execute(sql.SQL(query))\n",
    "sql_table = cursor.fetchall()\n",
    "column_names = [desc[0] for desc in cursor.description]\n",
    "\n",
    "pizzas_per_hour_df = pd.DataFrame(sql_table, columns=column_names)\n",
    "pizzas_per_hour_df"
   ]
  },
  {
   "cell_type": "markdown",
   "metadata": {},
   "source": [
    "What was the volume of orders for each day of the week?"
   ]
  },
  {
   "cell_type": "code",
   "execution_count": 124,
   "metadata": {},
   "outputs": [
    {
     "data": {
      "text/html": [
       "<div>\n",
       "<style scoped>\n",
       "    .dataframe tbody tr th:only-of-type {\n",
       "        vertical-align: middle;\n",
       "    }\n",
       "\n",
       "    .dataframe tbody tr th {\n",
       "        vertical-align: top;\n",
       "    }\n",
       "\n",
       "    .dataframe thead th {\n",
       "        text-align: right;\n",
       "    }\n",
       "</style>\n",
       "<table border=\"1\" class=\"dataframe\">\n",
       "  <thead>\n",
       "    <tr style=\"text-align: right;\">\n",
       "      <th></th>\n",
       "      <th>order_day</th>\n",
       "      <th>order_count</th>\n",
       "    </tr>\n",
       "  </thead>\n",
       "  <tbody>\n",
       "    <tr>\n",
       "      <th>0</th>\n",
       "      <td>Saturday</td>\n",
       "      <td>5</td>\n",
       "    </tr>\n",
       "    <tr>\n",
       "      <th>1</th>\n",
       "      <td>Thursday</td>\n",
       "      <td>3</td>\n",
       "    </tr>\n",
       "    <tr>\n",
       "      <th>2</th>\n",
       "      <td>Wednesday</td>\n",
       "      <td>4</td>\n",
       "    </tr>\n",
       "  </tbody>\n",
       "</table>\n",
       "</div>"
      ],
      "text/plain": [
       "   order_day  order_count\n",
       "0  Saturday             5\n",
       "1  Thursday             3\n",
       "2  Wednesday            4"
      ]
     },
     "execution_count": 124,
     "metadata": {},
     "output_type": "execute_result"
    }
   ],
   "source": [
    "query = \"\"\"\n",
    "    SELECT TO_CHAR(co.order_time, 'Day') AS order_day, COUNT(*) AS order_count\n",
    "    FROM runner_orders AS ro\n",
    "    JOIN customer_orders AS co ON ro.order_id = co.order_id\n",
    "    WHERE (ro.cancellation NOT LIKE '%Cancellation%' \n",
    "        OR ro.cancellation IS NULL)\n",
    "    GROUP BY order_day\n",
    "    ORDER BY order_day\n",
    "    ;\n",
    "    \"\"\"\n",
    "\n",
    "cursor.execute(sql.SQL(query))\n",
    "sql_table = cursor.fetchall()\n",
    "column_names = [desc[0] for desc in cursor.description]\n",
    "\n",
    "orders_per_day_df = pd.DataFrame(sql_table, columns=column_names)\n",
    "orders_per_day_df"
   ]
  },
  {
   "cell_type": "markdown",
   "metadata": {},
   "source": [
    "---\n",
    "## B. Runner and Customer Experience\n",
    "How many runners signed up for each 1 week period? (i.e. week starts 2021-01-01)"
   ]
  },
  {
   "cell_type": "code",
   "execution_count": 142,
   "metadata": {},
   "outputs": [
    {
     "data": {
      "text/html": [
       "<div>\n",
       "<style scoped>\n",
       "    .dataframe tbody tr th:only-of-type {\n",
       "        vertical-align: middle;\n",
       "    }\n",
       "\n",
       "    .dataframe tbody tr th {\n",
       "        vertical-align: top;\n",
       "    }\n",
       "\n",
       "    .dataframe thead th {\n",
       "        text-align: right;\n",
       "    }\n",
       "</style>\n",
       "<table border=\"1\" class=\"dataframe\">\n",
       "  <thead>\n",
       "    <tr style=\"text-align: right;\">\n",
       "      <th></th>\n",
       "      <th>order_week</th>\n",
       "      <th>runner_count</th>\n",
       "    </tr>\n",
       "  </thead>\n",
       "  <tbody>\n",
       "    <tr>\n",
       "      <th>0</th>\n",
       "      <td>1</td>\n",
       "      <td>2</td>\n",
       "    </tr>\n",
       "    <tr>\n",
       "      <th>1</th>\n",
       "      <td>2</td>\n",
       "      <td>3</td>\n",
       "    </tr>\n",
       "  </tbody>\n",
       "</table>\n",
       "</div>"
      ],
      "text/plain": [
       "  order_week  runner_count\n",
       "0          1             2\n",
       "1          2             3"
      ]
     },
     "execution_count": 142,
     "metadata": {},
     "output_type": "execute_result"
    }
   ],
   "source": [
    "query = \"\"\"\n",
    "    SELECT EXTRACT(WEEK FROM TO_TIMESTAMP(ro.pickup_time, 'YYYY-MM-DD HH24:MI:SS')) AS order_week, \n",
    "        COUNT(DISTINCT ro.runner_id) AS runner_count\n",
    "    FROM runner_orders AS ro\n",
    "    WHERE (ro.cancellation NOT LIKE '%Cancellation%' \n",
    "        OR ro.cancellation IS NULL)\n",
    "    GROUP BY order_week\n",
    "    ;\n",
    "    \"\"\"\n",
    "\n",
    "\n",
    "\n",
    "cursor.execute(sql.SQL(query))\n",
    "sql_table = cursor.fetchall()\n",
    "column_names = [desc[0] for desc in cursor.description]\n",
    "\n",
    "runners_wk_df= pd.DataFrame(sql_table, columns=column_names)\n",
    "runners_wk_df"
   ]
  },
  {
   "cell_type": "markdown",
   "metadata": {},
   "source": [
    "What was the average time in minutes it took for each runner to arrive at the Pizza Runner HQ to pickup the order?\n"
   ]
  },
  {
   "cell_type": "code",
   "execution_count": 154,
   "metadata": {},
   "outputs": [
    {
     "data": {
      "text/html": [
       "<div>\n",
       "<style scoped>\n",
       "    .dataframe tbody tr th:only-of-type {\n",
       "        vertical-align: middle;\n",
       "    }\n",
       "\n",
       "    .dataframe tbody tr th {\n",
       "        vertical-align: top;\n",
       "    }\n",
       "\n",
       "    .dataframe thead th {\n",
       "        text-align: right;\n",
       "    }\n",
       "</style>\n",
       "<table border=\"1\" class=\"dataframe\">\n",
       "  <thead>\n",
       "    <tr style=\"text-align: right;\">\n",
       "      <th></th>\n",
       "      <th>runner_id</th>\n",
       "      <th>avg_time_diff_min</th>\n",
       "    </tr>\n",
       "  </thead>\n",
       "  <tbody>\n",
       "    <tr>\n",
       "      <th>0</th>\n",
       "      <td>1</td>\n",
       "      <td>15.68</td>\n",
       "    </tr>\n",
       "    <tr>\n",
       "      <th>1</th>\n",
       "      <td>2</td>\n",
       "      <td>23.72</td>\n",
       "    </tr>\n",
       "    <tr>\n",
       "      <th>2</th>\n",
       "      <td>3</td>\n",
       "      <td>10.47</td>\n",
       "    </tr>\n",
       "  </tbody>\n",
       "</table>\n",
       "</div>"
      ],
      "text/plain": [
       "   runner_id avg_time_diff_min\n",
       "0          1             15.68\n",
       "1          2             23.72\n",
       "2          3             10.47"
      ]
     },
     "execution_count": 154,
     "metadata": {},
     "output_type": "execute_result"
    }
   ],
   "source": [
    "query = \"\"\"\n",
    "    SELECT ro.runner_id,\n",
    "        ROUND(AVG(EXTRACT(EPOCH FROM (TO_TIMESTAMP(ro.pickup_time, 'YYYY-MM-DD HH24:MI:SS') - \n",
    "            co.order_time)) / 60), 2) AS avg_time_diff_min\n",
    "    FROM runner_orders AS ro\n",
    "    JOIN customer_orders AS co ON ro.order_id = co.order_id\n",
    "    WHERE (ro.cancellation NOT LIKE '%Cancellation%' \n",
    "        OR ro.cancellation IS NULL)\n",
    "    GROUP BY ro.runner_id\n",
    "    ORDER BY ro.runner_id\n",
    "    ;\n",
    "    \"\"\"\n",
    "\n",
    "cursor.execute(sql.SQL(query))\n",
    "sql_table = cursor.fetchall()\n",
    "column_names = [desc[0] for desc in cursor.description]\n",
    "\n",
    "time_diff_df = pd.DataFrame(sql_table, columns=column_names)\n",
    "time_diff_df"
   ]
  },
  {
   "cell_type": "markdown",
   "metadata": {},
   "source": [
    "Is there any relationship between the number of pizzas and how long the order takes to prepare?\n"
   ]
  },
  {
   "cell_type": "code",
   "execution_count": 155,
   "metadata": {},
   "outputs": [
    {
     "data": {
      "text/html": [
       "<div>\n",
       "<style scoped>\n",
       "    .dataframe tbody tr th:only-of-type {\n",
       "        vertical-align: middle;\n",
       "    }\n",
       "\n",
       "    .dataframe tbody tr th {\n",
       "        vertical-align: top;\n",
       "    }\n",
       "\n",
       "    .dataframe thead th {\n",
       "        text-align: right;\n",
       "    }\n",
       "</style>\n",
       "<table border=\"1\" class=\"dataframe\">\n",
       "  <thead>\n",
       "    <tr style=\"text-align: right;\">\n",
       "      <th></th>\n",
       "      <th>order_id</th>\n",
       "      <th>num_pizzas</th>\n",
       "      <th>time_diff_min</th>\n",
       "    </tr>\n",
       "  </thead>\n",
       "  <tbody>\n",
       "    <tr>\n",
       "      <th>0</th>\n",
       "      <td>1</td>\n",
       "      <td>1</td>\n",
       "      <td>10.53</td>\n",
       "    </tr>\n",
       "    <tr>\n",
       "      <th>1</th>\n",
       "      <td>2</td>\n",
       "      <td>1</td>\n",
       "      <td>10.03</td>\n",
       "    </tr>\n",
       "    <tr>\n",
       "      <th>2</th>\n",
       "      <td>3</td>\n",
       "      <td>2</td>\n",
       "      <td>21.23</td>\n",
       "    </tr>\n",
       "    <tr>\n",
       "      <th>3</th>\n",
       "      <td>4</td>\n",
       "      <td>3</td>\n",
       "      <td>29.28</td>\n",
       "    </tr>\n",
       "    <tr>\n",
       "      <th>4</th>\n",
       "      <td>5</td>\n",
       "      <td>1</td>\n",
       "      <td>10.47</td>\n",
       "    </tr>\n",
       "    <tr>\n",
       "      <th>5</th>\n",
       "      <td>7</td>\n",
       "      <td>1</td>\n",
       "      <td>10.27</td>\n",
       "    </tr>\n",
       "    <tr>\n",
       "      <th>6</th>\n",
       "      <td>8</td>\n",
       "      <td>1</td>\n",
       "      <td>20.48</td>\n",
       "    </tr>\n",
       "    <tr>\n",
       "      <th>7</th>\n",
       "      <td>10</td>\n",
       "      <td>2</td>\n",
       "      <td>15.52</td>\n",
       "    </tr>\n",
       "  </tbody>\n",
       "</table>\n",
       "</div>"
      ],
      "text/plain": [
       "   order_id  num_pizzas time_diff_min\n",
       "0         1           1         10.53\n",
       "1         2           1         10.03\n",
       "2         3           2         21.23\n",
       "3         4           3         29.28\n",
       "4         5           1         10.47\n",
       "5         7           1         10.27\n",
       "6         8           1         20.48\n",
       "7        10           2         15.52"
      ]
     },
     "execution_count": 155,
     "metadata": {},
     "output_type": "execute_result"
    }
   ],
   "source": [
    "query = \"\"\"\n",
    "    SELECT \n",
    "        co.order_id,\n",
    "        COUNT(co.pizza_id) AS num_pizzas,\n",
    "        ROUND(EXTRACT(EPOCH FROM (TO_TIMESTAMP(ro.pickup_time, 'YYYY-MM-DD HH24:MI:SS') - co.order_time)) / 60, 2) AS time_diff_min\n",
    "    FROM customer_orders AS co\n",
    "    JOIN runner_orders AS ro ON co.order_id = ro.order_id\n",
    "    WHERE (ro.cancellation NOT LIKE '%Cancellation%' \n",
    "        OR ro.cancellation IS NULL)\n",
    "    GROUP BY co.order_id, ro.pickup_time, co.order_time\n",
    "    ORDER BY co.order_id\n",
    "    ;\n",
    "    \"\"\"\n",
    "\n",
    "cursor.execute(sql.SQL(query))\n",
    "sql_table = cursor.fetchall()\n",
    "column_names = [desc[0] for desc in cursor.description]\n",
    "\n",
    "order_pizza_time_df = pd.DataFrame(sql_table, columns=column_names)\n",
    "order_pizza_time_df"
   ]
  },
  {
   "cell_type": "code",
   "execution_count": 169,
   "metadata": {},
   "outputs": [
    {
     "name": "stdout",
     "output_type": "stream",
     "text": [
      "Regression line R^2: 0.699, Intercept: 4.2, Slope: 7.85\n"
     ]
    },
    {
     "data": {
      "image/png": "[encoded data removed]",
      "text/plain": [
       "<Figure size 640x480 with 1 Axes>"
      ]
     },
     "metadata": {},
     "output_type": "display_data"
    }
   ],
   "source": [
    "#Python implementation of the regression analysis\n",
    "    # Using SQL to do the regression is below, but results are largely limited.\n",
    "\n",
    "# Reformat the data\n",
    "#X = order_pizza_time_df['num_pizzas']\n",
    "X = sm.add_constant(order_pizza_time_df['num_pizzas'])\n",
    "y = pd.to_numeric(order_pizza_time_df[\"time_diff_min\"])\n",
    "\n",
    "X = sm.add_constant(X)\n",
    "\n",
    "# Fit the regression model\n",
    "model = sm.OLS(y, X).fit()\n",
    "\n",
    "# Print the regression results\n",
    "r2 = model.rsquared\n",
    "slope = model.params['num_pizzas']\n",
    "intercept = model.params['const']\n",
    "print(f\"Regression line R^2: {r2:.3f}, Intercept: {intercept:.1f}, Slope: {slope:.2f}\")\n",
    "\n",
    "# Plot the data points\n",
    "plt.scatter(order_pizza_time_df['num_pizzas'], order_pizza_time_df['time_diff_min'], label='Data points')\n",
    "\n",
    "# Plot the regression line\n",
    "plt.plot(order_pizza_time_df['num_pizzas'], model.predict(X), color='red', label='Regression line')\n",
    "\n",
    "plt.xlabel('Number of Pizzas')\n",
    "plt.ylabel('Time Difference (minutes)')\n",
    "plt.title('Linear Regression: Number of Pizzas vs. Time Difference')\n",
    "plt.legend()\n",
    "\n",
    "plt.show()"
   ]
  },
  {
   "cell_type": "code",
   "execution_count": 158,
   "metadata": {},
   "outputs": [
    {
     "data": {
      "text/html": [
       "<div>\n",
       "<style scoped>\n",
       "    .dataframe tbody tr th:only-of-type {\n",
       "        vertical-align: middle;\n",
       "    }\n",
       "\n",
       "    .dataframe tbody tr th {\n",
       "        vertical-align: top;\n",
       "    }\n",
       "\n",
       "    .dataframe thead th {\n",
       "        text-align: right;\n",
       "    }\n",
       "</style>\n",
       "<table border=\"1\" class=\"dataframe\">\n",
       "  <thead>\n",
       "    <tr style=\"text-align: right;\">\n",
       "      <th></th>\n",
       "      <th>r2</th>\n",
       "      <th>slope</th>\n",
       "      <th>intercept</th>\n",
       "    </tr>\n",
       "  </thead>\n",
       "  <tbody>\n",
       "    <tr>\n",
       "      <th>0</th>\n",
       "      <td>0.698528</td>\n",
       "      <td>0.08897</td>\n",
       "      <td>0.078589</td>\n",
       "    </tr>\n",
       "  </tbody>\n",
       "</table>\n",
       "</div>"
      ],
      "text/plain": [
       "         r2    slope  intercept\n",
       "0  0.698528  0.08897   0.078589"
      ]
     },
     "execution_count": 158,
     "metadata": {},
     "output_type": "execute_result"
    }
   ],
   "source": [
    "query = \"\"\"\n",
    "    WITH order_pizza_time AS (\n",
    "        SELECT \n",
    "            co.order_id,\n",
    "            COUNT(co.pizza_id) AS num_pizzas,\n",
    "            ROUND(EXTRACT(EPOCH FROM (TO_TIMESTAMP(ro.pickup_time, 'YYYY-MM-DD HH24:MI:SS') - co.order_time)) / 60, 2) AS time_diff_min\n",
    "        FROM customer_orders AS co\n",
    "        JOIN runner_orders AS ro ON co.order_id = ro.order_id\n",
    "        WHERE (ro.cancellation NOT LIKE '%Cancellation%' \n",
    "            OR ro.cancellation IS NULL)\n",
    "        GROUP BY co.order_id, ro.pickup_time, co.order_time\n",
    "    )\n",
    "    SELECT \n",
    "        REGR_R2(num_pizzas, time_diff_min) AS r2,\n",
    "        REGR_SLOPE(num_pizzas, time_diff_min) AS slope,\n",
    "        REGR_INTERCEPT(num_pizzas, time_diff_min) AS intercept\n",
    "    FROM order_pizza_time\n",
    "    ;\n",
    "    \"\"\"\n",
    "\n",
    "cursor.execute(sql.SQL(query))\n",
    "sql_table = cursor.fetchall()\n",
    "column_names = [desc[0] for desc in cursor.description]\n",
    "\n",
    "regression_stats_df = pd.DataFrame(sql_table, columns=column_names)\n",
    "regression_stats_df"
   ]
  },
  {
   "cell_type": "markdown",
   "metadata": {},
   "source": [
    "What was the average distance travelled for each customer?\n"
   ]
  },
  {
   "cell_type": "code",
   "execution_count": 184,
   "metadata": {},
   "outputs": [
    {
     "data": {
      "text/html": [
       "<div>\n",
       "<style scoped>\n",
       "    .dataframe tbody tr th:only-of-type {\n",
       "        vertical-align: middle;\n",
       "    }\n",
       "\n",
       "    .dataframe tbody tr th {\n",
       "        vertical-align: top;\n",
       "    }\n",
       "\n",
       "    .dataframe thead th {\n",
       "        text-align: right;\n",
       "    }\n",
       "</style>\n",
       "<table border=\"1\" class=\"dataframe\">\n",
       "  <thead>\n",
       "    <tr style=\"text-align: right;\">\n",
       "      <th></th>\n",
       "      <th>customer_id</th>\n",
       "      <th>avg_distance_numeric</th>\n",
       "    </tr>\n",
       "  </thead>\n",
       "  <tbody>\n",
       "    <tr>\n",
       "      <th>0</th>\n",
       "      <td>101</td>\n",
       "      <td>20.000000</td>\n",
       "    </tr>\n",
       "    <tr>\n",
       "      <th>1</th>\n",
       "      <td>102</td>\n",
       "      <td>16.733333</td>\n",
       "    </tr>\n",
       "    <tr>\n",
       "      <th>2</th>\n",
       "      <td>103</td>\n",
       "      <td>23.400000</td>\n",
       "    </tr>\n",
       "    <tr>\n",
       "      <th>3</th>\n",
       "      <td>104</td>\n",
       "      <td>10.000000</td>\n",
       "    </tr>\n",
       "    <tr>\n",
       "      <th>4</th>\n",
       "      <td>105</td>\n",
       "      <td>25.000000</td>\n",
       "    </tr>\n",
       "  </tbody>\n",
       "</table>\n",
       "</div>"
      ],
      "text/plain": [
       "   customer_id  avg_distance_numeric\n",
       "0          101             20.000000\n",
       "1          102             16.733333\n",
       "2          103             23.400000\n",
       "3          104             10.000000\n",
       "4          105             25.000000"
      ]
     },
     "execution_count": 184,
     "metadata": {},
     "output_type": "execute_result"
    }
   ],
   "source": [
    "query = \"\"\"\n",
    "    SELECT \n",
    "        co.customer_id, \n",
    "        AVG(CAST(REGEXP_REPLACE(ro.distance, '[^0-9.]', '', 'g') AS FLOAT)) AS avg_distance_numeric    \n",
    "    FROM runner_orders AS ro\n",
    "    JOIN customer_orders AS co ON ro.order_id = co.order_id\n",
    "    WHERE (ro.cancellation NOT LIKE '%Cancellation%' \n",
    "        OR ro.cancellation IS NULL)\n",
    "    GROUP BY co.customer_id\n",
    "    ORDER BY co.customer_id\n",
    "    ;\n",
    "    \"\"\"\n",
    "\n",
    "cursor.execute(sql.SQL(query))\n",
    "sql_table = cursor.fetchall()\n",
    "column_names = [desc[0] for desc in cursor.description]\n",
    "\n",
    "avg_cust_dist_df = pd.DataFrame(sql_table, columns=column_names)\n",
    "avg_cust_dist_df"
   ]
  },
  {
   "cell_type": "markdown",
   "metadata": {},
   "source": [
    "What was the difference between the longest and shortest delivery times for all orders?\n"
   ]
  },
  {
   "cell_type": "code",
   "execution_count": 187,
   "metadata": {},
   "outputs": [
    {
     "name": "stdout",
     "output_type": "stream",
     "text": [
      "The difference between the longest and shortest delivery times is 30.0 minutes.\n"
     ]
    }
   ],
   "source": [
    "query = \"\"\"\n",
    "    SELECT \n",
    "        MAX(CAST(REGEXP_REPLACE(ro.duration, '[^0-9.]', '', 'g') AS FLOAT)) - \n",
    "        MIN(CAST(REGEXP_REPLACE(ro.duration, '[^0-9.]', '', 'g') AS FLOAT)) AS duration_diff\n",
    "    FROM runner_orders AS ro\n",
    "    WHERE (ro.cancellation NOT LIKE '%Cancellation%' \n",
    "        OR ro.cancellation IS NULL)\n",
    "    ;\n",
    "    \"\"\"\n",
    "\n",
    "cursor.execute(sql.SQL(query))\n",
    "dur_diff = cursor.fetchone()[0]\n",
    "\n",
    "print(f\"The difference between the longest and shortest delivery times is {dur_diff} minutes.\")"
   ]
  },
  {
   "cell_type": "markdown",
   "metadata": {},
   "source": [
    "What was the average speed for each runner for each delivery and do you notice any trend for these values?\n"
   ]
  },
  {
   "cell_type": "code",
   "execution_count": 188,
   "metadata": {},
   "outputs": [
    {
     "data": {
      "text/html": [
       "<div>\n",
       "<style scoped>\n",
       "    .dataframe tbody tr th:only-of-type {\n",
       "        vertical-align: middle;\n",
       "    }\n",
       "\n",
       "    .dataframe tbody tr th {\n",
       "        vertical-align: top;\n",
       "    }\n",
       "\n",
       "    .dataframe thead th {\n",
       "        text-align: right;\n",
       "    }\n",
       "</style>\n",
       "<table border=\"1\" class=\"dataframe\">\n",
       "  <thead>\n",
       "    <tr style=\"text-align: right;\">\n",
       "      <th></th>\n",
       "      <th>runner_id</th>\n",
       "      <th>avg_speed</th>\n",
       "    </tr>\n",
       "  </thead>\n",
       "  <tbody>\n",
       "    <tr>\n",
       "      <th>0</th>\n",
       "      <td>1</td>\n",
       "      <td>0.758935</td>\n",
       "    </tr>\n",
       "    <tr>\n",
       "      <th>1</th>\n",
       "      <td>2</td>\n",
       "      <td>1.048333</td>\n",
       "    </tr>\n",
       "    <tr>\n",
       "      <th>2</th>\n",
       "      <td>3</td>\n",
       "      <td>0.666667</td>\n",
       "    </tr>\n",
       "  </tbody>\n",
       "</table>\n",
       "</div>"
      ],
      "text/plain": [
       "   runner_id  avg_speed\n",
       "0          1   0.758935\n",
       "1          2   1.048333\n",
       "2          3   0.666667"
      ]
     },
     "execution_count": 188,
     "metadata": {},
     "output_type": "execute_result"
    }
   ],
   "source": [
    "query = \"\"\"\n",
    "    SELECT \n",
    "        ro.runner_id,\n",
    "        AVG(CAST(REGEXP_REPLACE(ro.distance, '[^0-9.]', '', 'g') AS FLOAT) / \n",
    "            CAST(REGEXP_REPLACE(ro.duration, '[^0-9.]', '', 'g') AS FLOAT)) AS avg_speed\n",
    "    FROM runner_orders AS ro\n",
    "    WHERE (ro.cancellation NOT LIKE '%Cancellation%' \n",
    "        OR ro.cancellation IS NULL)\n",
    "    GROUP BY ro.runner_id\n",
    "    ORDER BY ro.runner_id\n",
    "    ;\n",
    "    \"\"\"\n",
    "\n",
    "\n",
    "\n",
    "cursor.execute(sql.SQL(query))\n",
    "sql_table = cursor.fetchall()\n",
    "column_names = [desc[0] for desc in cursor.description]\n",
    "\n",
    "avg_runner_spd_df = pd.DataFrame(sql_table, columns=column_names)\n",
    "avg_runner_spd_df"
   ]
  },
  {
   "cell_type": "code",
   "execution_count": 195,
   "metadata": {},
   "outputs": [
    {
     "data": {
      "text/html": [
       "<div>\n",
       "<style scoped>\n",
       "    .dataframe tbody tr th:only-of-type {\n",
       "        vertical-align: middle;\n",
       "    }\n",
       "\n",
       "    .dataframe tbody tr th {\n",
       "        vertical-align: top;\n",
       "    }\n",
       "\n",
       "    .dataframe thead th {\n",
       "        text-align: right;\n",
       "    }\n",
       "</style>\n",
       "<table border=\"1\" class=\"dataframe\">\n",
       "  <thead>\n",
       "    <tr style=\"text-align: right;\">\n",
       "      <th></th>\n",
       "      <th>runner_id</th>\n",
       "      <th>order_id</th>\n",
       "      <th>deliv_speed</th>\n",
       "    </tr>\n",
       "  </thead>\n",
       "  <tbody>\n",
       "    <tr>\n",
       "      <th>0</th>\n",
       "      <td>1</td>\n",
       "      <td>1</td>\n",
       "      <td>0.625000</td>\n",
       "    </tr>\n",
       "    <tr>\n",
       "      <th>1</th>\n",
       "      <td>1</td>\n",
       "      <td>2</td>\n",
       "      <td>0.740741</td>\n",
       "    </tr>\n",
       "    <tr>\n",
       "      <th>2</th>\n",
       "      <td>1</td>\n",
       "      <td>3</td>\n",
       "      <td>0.670000</td>\n",
       "    </tr>\n",
       "    <tr>\n",
       "      <th>3</th>\n",
       "      <td>2</td>\n",
       "      <td>4</td>\n",
       "      <td>0.585000</td>\n",
       "    </tr>\n",
       "    <tr>\n",
       "      <th>4</th>\n",
       "      <td>3</td>\n",
       "      <td>5</td>\n",
       "      <td>0.666667</td>\n",
       "    </tr>\n",
       "    <tr>\n",
       "      <th>5</th>\n",
       "      <td>2</td>\n",
       "      <td>7</td>\n",
       "      <td>1.000000</td>\n",
       "    </tr>\n",
       "    <tr>\n",
       "      <th>6</th>\n",
       "      <td>2</td>\n",
       "      <td>8</td>\n",
       "      <td>1.560000</td>\n",
       "    </tr>\n",
       "    <tr>\n",
       "      <th>7</th>\n",
       "      <td>1</td>\n",
       "      <td>10</td>\n",
       "      <td>1.000000</td>\n",
       "    </tr>\n",
       "  </tbody>\n",
       "</table>\n",
       "</div>"
      ],
      "text/plain": [
       "   runner_id  order_id  deliv_speed\n",
       "0          1         1     0.625000\n",
       "1          1         2     0.740741\n",
       "2          1         3     0.670000\n",
       "3          2         4     0.585000\n",
       "4          3         5     0.666667\n",
       "5          2         7     1.000000\n",
       "6          2         8     1.560000\n",
       "7          1        10     1.000000"
      ]
     },
     "execution_count": 195,
     "metadata": {},
     "output_type": "execute_result"
    }
   ],
   "source": [
    "query = \"\"\"\n",
    "    SELECT \n",
    "        ro.runner_id,\n",
    "        ro.order_id,\n",
    "        CAST(REGEXP_REPLACE(ro.distance, '[^0-9.]', '', 'g') AS FLOAT) / \n",
    "            CAST(REGEXP_REPLACE(ro.duration, '[^0-9.]', '', 'g') AS FLOAT) AS deliv_speed\n",
    "    FROM runner_orders AS ro\n",
    "    WHERE (ro.cancellation NOT LIKE '%Cancellation%' \n",
    "        OR ro.cancellation IS NULL)\n",
    "    ;\n",
    "    \"\"\"\n",
    "\n",
    "\n",
    "\n",
    "cursor.execute(sql.SQL(query))\n",
    "sql_table = cursor.fetchall()\n",
    "column_names = [desc[0] for desc in cursor.description]\n",
    "\n",
    "deliv_spd_df = pd.DataFrame(sql_table, columns=column_names)\n",
    "deliv_spd_df"
   ]
  },
  {
   "cell_type": "code",
   "execution_count": 194,
   "metadata": {},
   "outputs": [
    {
     "data": {
      "image/png": "[encoded data removed]",
      "text/plain": [
       "<Figure size 1000x600 with 1 Axes>"
      ]
     },
     "metadata": {},
     "output_type": "display_data"
    }
   ],
   "source": [
    "runner_ids = deliv_spd_df['runner_id']\n",
    "delivery_speeds = deliv_spd_df['deliv_speed']\n",
    "\n",
    "# Add jitter \n",
    "jitter = 0.1\n",
    "jittered_runner_ids = runner_ids + np.random.uniform(-jitter, jitter, size=len(runner_ids))\n",
    "\n",
    "plt.figure(figsize=(10, 6))\n",
    "plt.scatter(jittered_runner_ids, delivery_speeds, alpha=0.6)\n",
    "\n",
    "plt.xlabel('Runner ID')\n",
    "plt.ylabel('Delivery Speed')\n",
    "plt.title('Delivery Speed by Runner ID')\n",
    "plt.xticks(ticks=np.unique(runner_ids), labels=np.unique(runner_ids))\n",
    "\n",
    "plt.show()"
   ]
  },
  {
   "cell_type": "markdown",
   "metadata": {},
   "source": [
    "*The graph suggests that runner 1 is consistently fast ~0.75 km/min with the only delivery for runner 3 is about the same. Runner 2 however has a wide range of speed across the deliveries, which seems to be increasing with each order delivered. Further exploration showed that runner 2's last order was cancelled by the customer indicating that runner 2 may be having trouble delivering orders.*"
   ]
  },
  {
   "cell_type": "markdown",
   "metadata": {},
   "source": [
    "What is the successful delivery percentage for each runner?"
   ]
  },
  {
   "cell_type": "code",
   "execution_count": 196,
   "metadata": {},
   "outputs": [
    {
     "data": {
      "text/html": [
       "<div>\n",
       "<style scoped>\n",
       "    .dataframe tbody tr th:only-of-type {\n",
       "        vertical-align: middle;\n",
       "    }\n",
       "\n",
       "    .dataframe tbody tr th {\n",
       "        vertical-align: top;\n",
       "    }\n",
       "\n",
       "    .dataframe thead th {\n",
       "        text-align: right;\n",
       "    }\n",
       "</style>\n",
       "<table border=\"1\" class=\"dataframe\">\n",
       "  <thead>\n",
       "    <tr style=\"text-align: right;\">\n",
       "      <th></th>\n",
       "      <th>runner_id</th>\n",
       "      <th>total_deliveries</th>\n",
       "      <th>successful_deliveries</th>\n",
       "      <th>success_percentage</th>\n",
       "    </tr>\n",
       "  </thead>\n",
       "  <tbody>\n",
       "    <tr>\n",
       "      <th>0</th>\n",
       "      <td>1</td>\n",
       "      <td>4</td>\n",
       "      <td>4</td>\n",
       "      <td>100.00</td>\n",
       "    </tr>\n",
       "    <tr>\n",
       "      <th>1</th>\n",
       "      <td>2</td>\n",
       "      <td>4</td>\n",
       "      <td>3</td>\n",
       "      <td>75.00</td>\n",
       "    </tr>\n",
       "    <tr>\n",
       "      <th>2</th>\n",
       "      <td>3</td>\n",
       "      <td>2</td>\n",
       "      <td>1</td>\n",
       "      <td>50.00</td>\n",
       "    </tr>\n",
       "  </tbody>\n",
       "</table>\n",
       "</div>"
      ],
      "text/plain": [
       "   runner_id  total_deliveries  successful_deliveries success_percentage\n",
       "0          1                 4                      4             100.00\n",
       "1          2                 4                      3              75.00\n",
       "2          3                 2                      1              50.00"
      ]
     },
     "execution_count": 196,
     "metadata": {},
     "output_type": "execute_result"
    }
   ],
   "source": [
    "query = \"\"\"\n",
    "    SELECT \n",
    "        ro.runner_id,\n",
    "        COUNT(*) AS total_deliveries,\n",
    "        COUNT(CASE WHEN ro.cancellation IS NULL OR ro.cancellation NOT LIKE '%Cancellation%' THEN 1 END) AS successful_deliveries,\n",
    "        ROUND(\n",
    "            COUNT(CASE WHEN ro.cancellation IS NULL OR ro.cancellation NOT LIKE '%Cancellation%' THEN 1 END) * 100.0 / COUNT(*), \n",
    "            2\n",
    "        ) AS success_percentage\n",
    "    FROM runner_orders AS ro\n",
    "    GROUP BY ro.runner_id\n",
    "    ORDER BY ro.runner_id\n",
    "    ;\n",
    "    \"\"\"\n",
    "\n",
    "cursor.execute(sql.SQL(query))\n",
    "sql_table = cursor.fetchall()\n",
    "column_names = [desc[0] for desc in cursor.description]\n",
    "\n",
    "deliv_suc_df = pd.DataFrame(sql_table, columns=column_names)\n",
    "deliv_suc_df"
   ]
  },
  {
   "cell_type": "markdown",
   "metadata": {},
   "source": [
    "---\n",
    "## C. Ingredient Opitimization"
   ]
  },
  {
   "cell_type": "markdown",
   "metadata": {},
   "source": [
    "What are the standard ingredients for each pizza?\n"
   ]
  },
  {
   "cell_type": "code",
   "execution_count": 246,
   "metadata": {},
   "outputs": [
    {
     "data": {
      "text/html": [
       "<div>\n",
       "<style scoped>\n",
       "    .dataframe tbody tr th:only-of-type {\n",
       "        vertical-align: middle;\n",
       "    }\n",
       "\n",
       "    .dataframe tbody tr th {\n",
       "        vertical-align: top;\n",
       "    }\n",
       "\n",
       "    .dataframe thead th {\n",
       "        text-align: right;\n",
       "    }\n",
       "</style>\n",
       "<table border=\"1\" class=\"dataframe\">\n",
       "  <thead>\n",
       "    <tr style=\"text-align: right;\">\n",
       "      <th></th>\n",
       "      <th>pizza_id</th>\n",
       "      <th>pizza_name</th>\n",
       "      <th>toppings_list</th>\n",
       "    </tr>\n",
       "  </thead>\n",
       "  <tbody>\n",
       "    <tr>\n",
       "      <th>0</th>\n",
       "      <td>1</td>\n",
       "      <td>Meatlovers</td>\n",
       "      <td>BBQ Sauce, Pepperoni, Cheese, Salami, Chicken,...</td>\n",
       "    </tr>\n",
       "    <tr>\n",
       "      <th>1</th>\n",
       "      <td>2</td>\n",
       "      <td>Vegetarian</td>\n",
       "      <td>Tomato Sauce, Cheese, Mushrooms, Onions, Peppe...</td>\n",
       "    </tr>\n",
       "  </tbody>\n",
       "</table>\n",
       "</div>"
      ],
      "text/plain": [
       "   pizza_id  pizza_name                                      toppings_list\n",
       "0         1  Meatlovers  BBQ Sauce, Pepperoni, Cheese, Salami, Chicken,...\n",
       "1         2  Vegetarian  Tomato Sauce, Cheese, Mushrooms, Onions, Peppe..."
      ]
     },
     "execution_count": 246,
     "metadata": {},
     "output_type": "execute_result"
    }
   ],
   "source": [
    "query = \"\"\"\n",
    "    WITH tmp_table AS (\n",
    "        SELECT \n",
    "            pizza_id,\n",
    "            UNNEST(STRING_TO_ARRAY(toppings, ','))::INTEGER AS topping_id\n",
    "        FROM pizza_recipes AS pr\n",
    "    )\n",
    "    SELECT \n",
    "        tmp_table.pizza_id,\n",
    "        pn.pizza_name,\n",
    "        STRING_AGG(CAST(topping_name AS VARCHAR), ', ') AS toppings_list\n",
    "    FROM tmp_table\n",
    "    JOIN pizza_toppings AS pt ON pt.topping_id = tmp_table.topping_id\n",
    "    JOIN pizza_names AS pn ON pn.pizza_id = tmp_table.pizza_id\n",
    "    GROUP BY tmp_table.pizza_id, pn.pizza_name\n",
    "    ORDER BY tmp_table.pizza_id\n",
    "    ;\n",
    "    \"\"\"\n",
    "\n",
    "cursor.execute(sql.SQL(query))\n",
    "sql_table = cursor.fetchall()\n",
    "column_names = [desc[0] for desc in cursor.description]\n",
    "\n",
    "pizza_ingr_df = pd.DataFrame(sql_table, columns=column_names)\n",
    "pizza_ingr_df"
   ]
  },
  {
   "cell_type": "markdown",
   "metadata": {},
   "source": [
    "What was the most commonly added extra?\n"
   ]
  },
  {
   "cell_type": "code",
   "execution_count": 257,
   "metadata": {},
   "outputs": [
    {
     "name": "stdout",
     "output_type": "stream",
     "text": [
      "The most common extra topping is Bacon.\n"
     ]
    }
   ],
   "source": [
    "query = \"\"\"\n",
    "    WITH tmp_table AS (\n",
    "        SELECT \n",
    "            UNNEST(STRING_TO_ARRAY(co.extras, ', '))::INTEGER AS topping_id\n",
    "        FROM customer_orders AS co\n",
    "        WHERE co.extras IS NOT NULL\n",
    "            AND co.extras NOT LIKE '%null%'\n",
    "    )\n",
    "    SELECT pt.topping_name, COUNT(*) AS count\n",
    "    FROM tmp_table\n",
    "    JOIN pizza_toppings AS pt ON pt.topping_id = tmp_table.topping_id\n",
    "    GROUP BY pt.topping_name\n",
    "    ORDER BY count DESC\n",
    "    LIMIT 1\n",
    "    ;\n",
    "    \"\"\"\n",
    "\n",
    "cursor.execute(query)\n",
    "most_common_topping = cursor.fetchone()[0]\n",
    "\n",
    "print(f\"The most common extra topping is {most_common_topping}.\")"
   ]
  },
  {
   "cell_type": "markdown",
   "metadata": {},
   "source": [
    "What was the most common exclusion?\n"
   ]
  },
  {
   "cell_type": "code",
   "execution_count": 258,
   "metadata": {},
   "outputs": [
    {
     "name": "stdout",
     "output_type": "stream",
     "text": [
      "The most common topping excluded is Cheese.\n"
     ]
    }
   ],
   "source": [
    "query = \"\"\"\n",
    "    WITH tmp_table AS (\n",
    "        SELECT \n",
    "            UNNEST(STRING_TO_ARRAY(co.exclusions, ', '))::INTEGER AS topping_id\n",
    "        FROM customer_orders AS co\n",
    "        WHERE co.exclusions IS NOT NULL\n",
    "            AND co.exclusions NOT LIKE '%null%'\n",
    "    )\n",
    "    SELECT pt.topping_name, COUNT(*) AS count\n",
    "    FROM tmp_table\n",
    "    JOIN pizza_toppings AS pt ON pt.topping_id = tmp_table.topping_id\n",
    "    GROUP BY pt.topping_name\n",
    "    ORDER BY count DESC\n",
    "    LIMIT 1\n",
    "    ;\n",
    "    \"\"\"\n",
    "\n",
    "cursor.execute(query)\n",
    "most_common_excl_topping = cursor.fetchone()[0]\n",
    "\n",
    "print(f\"The most common topping excluded is {most_common_excl_topping}.\")"
   ]
  },
  {
   "cell_type": "markdown",
   "metadata": {},
   "source": [
    "Generate an order item for each record in the customers_orders table in the format of one of the following:\n",
    "- Meat Lovers\n",
    "- Meat Lovers - Exclude Beef\n",
    "- Meat Lovers - Extra Bacon\n",
    "- Meat Lovers - Exclude Cheese, Bacon - Extra Mushroom, Peppers\n"
   ]
  },
  {
   "cell_type": "code",
   "execution_count": null,
   "metadata": {},
   "outputs": [],
   "source": []
  },
  {
   "cell_type": "markdown",
   "metadata": {},
   "source": [
    "Generate an alphabetically ordered comma separated ingredient list for each pizza order from the customer_orders table and add a 2x in front of any relevant ingredients\n",
    "- For example: \"Meat Lovers: 2xBacon, Beef, ... , Salami\"\n"
   ]
  },
  {
   "cell_type": "markdown",
   "metadata": {},
   "source": [
    "What is the total quantity of each ingredient used in all delivered pizzas sorted by most frequent first?"
   ]
  },
  {
   "cell_type": "markdown",
   "metadata": {},
   "source": [
    "---\n",
    "## D. Pricing and Ratings"
   ]
  },
  {
   "cell_type": "markdown",
   "metadata": {},
   "source": [
    "If a Meat Lovers pizza costs $12 and Vegetarian costs $10 and there were no charges for changes - how much money has Pizza Runner made so far if there are no delivery fees?\n"
   ]
  },
  {
   "cell_type": "markdown",
   "metadata": {},
   "source": [
    "What if there was an additional $1 charge for any pizza extras?\n",
    "- Add cheese is $1 extra\n"
   ]
  },
  {
   "cell_type": "markdown",
   "metadata": {},
   "source": [
    "The Pizza Runner team now wants to add an additional ratings system that allows customers to rate their runner, how would you design an additional table for this new dataset - generate a schema for this new table and insert your own data for ratings for each successful customer order between 1 to 5.\n"
   ]
  },
  {
   "cell_type": "markdown",
   "metadata": {},
   "source": [
    "Using your newly generated table - can you join all of the information together to form a table which has the following information for successful deliveries?\n",
    "- customer_id\n",
    "- order_id\n",
    "- runner_id\n",
    "- rating\n",
    "- order_time\n",
    "- pickup_time\n",
    "- Time between order and pickup\n",
    "- Delivery duration\n",
    "- Average speed\n",
    "- Total number of pizzas\n"
   ]
  },
  {
   "cell_type": "markdown",
   "metadata": {},
   "source": [
    "If a Meat Lovers pizza was $12 and Vegetarian $10 fixed prices with no cost for extras and each runner is paid $0.30 per kilometre traveled - how much money does Pizza Runner have left over after these deliveries?"
   ]
  },
  {
   "cell_type": "markdown",
   "metadata": {},
   "source": [
    "---\n",
    "## E. Table Injection "
   ]
  },
  {
   "cell_type": "markdown",
   "metadata": {},
   "source": [
    "If Danny wants to expand his range of pizzas - how would this impact the existing data design? Write an INSERT statement to demonstrate what would happen if a new Supreme pizza with all the toppings was added to the Pizza Runner menu?"
   ]
  },
  {
   "cell_type": "markdown",
   "metadata": {},
   "source": []
  }
 ],
 "metadata": {
  "kernelspec": {
   "display_name": "Python 3",
   "language": "python",
   "name": "python3"
  },
  "language_info": {
   "codemirror_mode": {
    "name": "ipython",
    "version": 3
   },
   "file_extension": ".py",
   "mimetype": "text/x-python",
   "name": "python",
   "nbconvert_exporter": "python",
   "pygments_lexer": "ipython3",
   "version": "3.12.5"
  }
 },
 "nbformat": 4,
 "nbformat_minor": 2
}
